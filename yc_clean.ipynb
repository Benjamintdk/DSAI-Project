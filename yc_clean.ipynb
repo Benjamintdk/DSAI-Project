{
 "cells": [
  {
   "cell_type": "code",
   "execution_count": null,
   "id": "amended-badge",
   "metadata": {},
   "outputs": [],
   "source": [
    "from pandas import DataFrame\n",
    "from sklearn.utils import shuffle\n",
    "import os\n",
    "import concurrent\n",
    "import requests\n",
    "import pandas as pd\n",
    "from nbdev.showdoc import *\n",
    "from fastcore.test import *\n",
    "from sklearn.preprocessing import MultiLabelBinarizer"
   ]
  },
  {
   "cell_type": "code",
   "execution_count": null,
   "id": "discrete-steal",
   "metadata": {},
   "outputs": [],
   "source": [
    "import numpy as np\n",
    "import pandas as pd\n",
    "import seaborn as sb\n",
    "import matplotlib.pyplot as plt # we only need pyplot\n",
    "\n",
    "import json"
   ]
  },
  {
   "cell_type": "code",
   "execution_count": null,
   "id": "forty-hypothesis",
   "metadata": {},
   "outputs": [],
   "source": [
    "api_key = \"785475a69770b7dc1afQ964feff948dd7\""
   ]
  },
  {
   "cell_type": "code",
   "execution_count": null,
   "id": "frozen-system",
   "metadata": {},
   "outputs": [],
   "source": [
    "data = pd.read_csv('train.csv')"
   ]
  },
  {
   "cell_type": "code",
   "execution_count": null,
   "id": "planned-knitting",
   "metadata": {},
   "outputs": [
    {
     "name": "stdout",
     "output_type": "stream",
     "text": [
      "<class 'pandas.core.frame.DataFrame'>\n",
      "RangeIndex: 916 entries, 0 to 915\n",
      "Data columns (total 26 columns):\n",
      " #   Column                 Non-Null Count  Dtype  \n",
      "---  ------                 --------------  -----  \n",
      " 0   Unnamed: 0             916 non-null    int64  \n",
      " 1   adult                  916 non-null    bool   \n",
      " 2   backdrop_path          901 non-null    object \n",
      " 3   belongs_to_collection  269 non-null    object \n",
      " 4   budget                 916 non-null    int64  \n",
      " 5   genres                 916 non-null    object \n",
      " 6   homepage               260 non-null    object \n",
      " 7   id                     916 non-null    int64  \n",
      " 8   imdb_id                916 non-null    object \n",
      " 9   original_language      916 non-null    object \n",
      " 10  original_title         916 non-null    object \n",
      " 11  overview               916 non-null    object \n",
      " 12  popularity             916 non-null    float64\n",
      " 13  poster_path            916 non-null    object \n",
      " 14  production_companies   916 non-null    object \n",
      " 15  production_countries   916 non-null    object \n",
      " 16  release_date           916 non-null    object \n",
      " 17  revenue                916 non-null    int64  \n",
      " 18  runtime                916 non-null    float64\n",
      " 19  spoken_languages       916 non-null    object \n",
      " 20  status                 916 non-null    object \n",
      " 21  tagline                916 non-null    object \n",
      " 22  title                  916 non-null    object \n",
      " 23  video                  916 non-null    bool   \n",
      " 24  vote_average           916 non-null    float64\n",
      " 25  vote_count             916 non-null    int64  \n",
      "dtypes: bool(2), float64(3), int64(5), object(16)\n",
      "memory usage: 173.7+ KB\n"
     ]
    }
   ],
   "source": [
    "data.info()"
   ]
  },
  {
   "cell_type": "code",
   "execution_count": null,
   "id": "appreciated-replication",
   "metadata": {},
   "outputs": [],
   "source": [
    "valid = pd.read_csv('valid.csv')"
   ]
  },
  {
   "cell_type": "code",
   "execution_count": null,
   "id": "bored-neighborhood",
   "metadata": {},
   "outputs": [],
   "source": [
    "def drop_col(data: DataFrame)->DataFrame:\n",
    "        \n",
    "        df = data.drop(['belongs_to_collection','homepage','imdb_id','production_companies','popularity','original_language','original_title','revenue','runtime','spoken_languages','status','video','vote_average','vote_count','production_countries','budget'],axis = 1)\n",
    "        df['release_date'] = pd.to_datetime(df['release_date'], format='%Y-%m-%d')\n",
    "        df =df.drop(df.columns[0], axis=1)\n",
    "        \n",
    "        return df"
   ]
  },
  {
   "cell_type": "code",
   "execution_count": null,
   "id": "configured-connectivity",
   "metadata": {},
   "outputs": [],
   "source": [
    "def clean_genre(df:DataFrame)-> DataFrame:\n",
    "    \n",
    "    mlb = MultiLabelBinarizer(sparse_output=True)\n",
    "    df['genres'] = [[x['name'] for x in eval(list_dict)] for list_dict in df['genres']]\n",
    "    df1 = df.join(\n",
    "                pd.DataFrame.sparse.from_spmatrix(\n",
    "                mlb.fit_transform(df.pop('genres')),\n",
    "                index=df.index,\n",
    "                columns=mlb.classes_))\n",
    "    return df1"
   ]
  },
  {
   "cell_type": "code",
   "execution_count": null,
   "id": "certified-thumbnail",
   "metadata": {},
   "outputs": [
    {
     "data": {
      "text/plain": [
       "0      [{'id': 10751, 'name': 'Family'}, {'id': 35, '...\n",
       "1      [{'id': 18, 'name': 'Drama'}, {'id': 10749, 'n...\n",
       "2      [{'id': 80, 'name': 'Crime'}, {'id': 18, 'name...\n",
       "3      [{'id': 18, 'name': 'Drama'}, {'id': 36, 'name...\n",
       "4      [{'id': 35, 'name': 'Comedy'}, {'id': 10749, '...\n",
       "                             ...                        \n",
       "911    [{'id': 18, 'name': 'Drama'}, {'id': 10749, 'n...\n",
       "912    [{'id': 10770, 'name': 'TV Movie'}, {'id': 12,...\n",
       "913    [{'id': 35, 'name': 'Comedy'}, {'id': 80, 'nam...\n",
       "914                        [{'id': 18, 'name': 'Drama'}]\n",
       "915    [{'id': 53, 'name': 'Thriller'}, {'id': 80, 'n...\n",
       "Name: genres, Length: 916, dtype: object"
      ]
     },
     "execution_count": null,
     "metadata": {},
     "output_type": "execute_result"
    }
   ],
   "source": [
    "data['genres']"
   ]
  },
  {
   "cell_type": "code",
   "execution_count": null,
   "id": "royal-plain",
   "metadata": {},
   "outputs": [],
   "source": []
  },
  {
   "cell_type": "code",
   "execution_count": null,
   "id": "knowing-automation",
   "metadata": {},
   "outputs": [],
   "source": [
    "def extract_backdrop_img(df:DataFrame):\n",
    "    \n",
    "    try:\n",
    "        os.makedirs(\".\\\\backdrop_img\")\n",
    "    except FileExistsError:\n",
    "    # directory already exists\n",
    "        pass\n",
    "    \n",
    "    for cnt,x in enumerate(df['backdrop_path']):\n",
    "        \n",
    "        if x is not None:\n",
    "            response = requests.get(\"https://image.tmdb.org/t/p/original\"+str(x))\n",
    "            file = open(\".\\\\backdrop_img\\\\\"+str(df['id'][cnt])+\".jpg\", \"wb\")\n",
    "            file.write(response.content)\n",
    "            file.close()\n",
    "    \n",
    "    return\n",
    "    "
   ]
  },
  {
   "cell_type": "code",
   "execution_count": null,
   "id": "active-management",
   "metadata": {},
   "outputs": [],
   "source": [
    "def extract_poster_img(df:DataFrame):\n",
    "    \n",
    "    try:\n",
    "        os.makedirs(\".\\\\poster_img\")\n",
    "    except FileExistsError:\n",
    "    # directory already exists\n",
    "        pass\n",
    "    \n",
    "    for cnt,x in enumerate(df['poster_path']):\n",
    "        \n",
    "        if x is not None:\n",
    "            response = requests.get(\"https://image.tmdb.org/t/p/original\"+str(x))\n",
    "            file = open(\".\\\\poster_img\\\\\"+str(df['id'][cnt])+\".jpg\", \"wb\")\n",
    "            file.write(response.content)\n",
    "            file.close()\n",
    "    \n",
    "    return\n",
    "  "
   ]
  },
  {
   "cell_type": "code",
   "execution_count": null,
   "id": "public-soundtrack",
   "metadata": {},
   "outputs": [],
   "source": [
    "df = drop_col(data)"
   ]
  },
  {
   "cell_type": "code",
   "execution_count": null,
   "id": "latin-modeling",
   "metadata": {},
   "outputs": [
    {
     "name": "stdout",
     "output_type": "stream",
     "text": [
      "<class 'pandas.core.frame.DataFrame'>\n",
      "RangeIndex: 916 entries, 0 to 915\n",
      "Data columns (total 9 columns):\n",
      " #   Column         Non-Null Count  Dtype         \n",
      "---  ------         --------------  -----         \n",
      " 0   adult          916 non-null    bool          \n",
      " 1   backdrop_path  901 non-null    object        \n",
      " 2   genres         916 non-null    object        \n",
      " 3   id             916 non-null    int64         \n",
      " 4   overview       916 non-null    object        \n",
      " 5   poster_path    916 non-null    object        \n",
      " 6   release_date   916 non-null    datetime64[ns]\n",
      " 7   tagline        916 non-null    object        \n",
      " 8   title          916 non-null    object        \n",
      "dtypes: bool(1), datetime64[ns](1), int64(1), object(6)\n",
      "memory usage: 58.3+ KB\n"
     ]
    }
   ],
   "source": [
    "df.info()"
   ]
  },
  {
   "cell_type": "code",
   "execution_count": null,
   "id": "generic-quarterly",
   "metadata": {},
   "outputs": [],
   "source": [
    "df1 = clean_genre(df)"
   ]
  },
  {
   "cell_type": "code",
   "execution_count": null,
   "id": "accepted-advisory",
   "metadata": {},
   "outputs": [
    {
     "data": {
      "text/plain": [
       "0    725\n",
       "1    191\n",
       "Name: Romance, dtype: int64"
      ]
     },
     "execution_count": null,
     "metadata": {},
     "output_type": "execute_result"
    }
   ],
   "source": [
    "df1['Romance'].value_counts()"
   ]
  },
  {
   "cell_type": "code",
   "execution_count": null,
   "id": "rising-stations",
   "metadata": {},
   "outputs": [
    {
     "data": {
      "text/plain": [
       "adult               0\n",
       "backdrop_path      15\n",
       "id                  0\n",
       "overview            0\n",
       "poster_path         0\n",
       "release_date        0\n",
       "tagline             0\n",
       "title               0\n",
       "Action              0\n",
       "Adventure           0\n",
       "Animation           0\n",
       "Comedy              0\n",
       "Crime               0\n",
       "Documentary         0\n",
       "Drama               0\n",
       "Family              0\n",
       "Fantasy             0\n",
       "History             0\n",
       "Horror              0\n",
       "Music               0\n",
       "Mystery             0\n",
       "Romance             0\n",
       "Science Fiction     0\n",
       "TV Movie            0\n",
       "Thriller            0\n",
       "War                 0\n",
       "Western             0\n",
       "dtype: int64"
      ]
     },
     "execution_count": null,
     "metadata": {},
     "output_type": "execute_result"
    }
   ],
   "source": [
    "df1.isnull().sum()"
   ]
  },
  {
   "cell_type": "code",
   "execution_count": null,
   "id": "fuzzy-chamber",
   "metadata": {},
   "outputs": [
    {
     "name": "stdout",
     "output_type": "stream",
     "text": [
      "<class 'pandas.core.frame.DataFrame'>\n",
      "RangeIndex: 916 entries, 0 to 915\n",
      "Data columns (total 27 columns):\n",
      " #   Column           Non-Null Count  Dtype           \n",
      "---  ------           --------------  -----           \n",
      " 0   adult            916 non-null    bool            \n",
      " 1   backdrop_path    901 non-null    object          \n",
      " 2   id               916 non-null    int64           \n",
      " 3   overview         916 non-null    object          \n",
      " 4   poster_path      916 non-null    object          \n",
      " 5   release_date     916 non-null    datetime64[ns]  \n",
      " 6   tagline          916 non-null    object          \n",
      " 7   title            916 non-null    object          \n",
      " 8   Action           916 non-null    Sparse[int32, 0]\n",
      " 9   Adventure        916 non-null    Sparse[int32, 0]\n",
      " 10  Animation        916 non-null    Sparse[int32, 0]\n",
      " 11  Comedy           916 non-null    Sparse[int32, 0]\n",
      " 12  Crime            916 non-null    Sparse[int32, 0]\n",
      " 13  Documentary      916 non-null    Sparse[int32, 0]\n",
      " 14  Drama            916 non-null    Sparse[int32, 0]\n",
      " 15  Family           916 non-null    Sparse[int32, 0]\n",
      " 16  Fantasy          916 non-null    Sparse[int32, 0]\n",
      " 17  History          916 non-null    Sparse[int32, 0]\n",
      " 18  Horror           916 non-null    Sparse[int32, 0]\n",
      " 19  Music            916 non-null    Sparse[int32, 0]\n",
      " 20  Mystery          916 non-null    Sparse[int32, 0]\n",
      " 21  Romance          916 non-null    Sparse[int32, 0]\n",
      " 22  Science Fiction  916 non-null    Sparse[int32, 0]\n",
      " 23  TV Movie         916 non-null    Sparse[int32, 0]\n",
      " 24  Thriller         916 non-null    Sparse[int32, 0]\n",
      " 25  War              916 non-null    Sparse[int32, 0]\n",
      " 26  Western          916 non-null    Sparse[int32, 0]\n",
      "dtypes: Sparse[int32, 0](19), bool(1), datetime64[ns](1), int64(1), object(5)\n",
      "memory usage: 70.1+ KB\n"
     ]
    }
   ],
   "source": [
    "df1.info()"
   ]
  }
 ],
 "metadata": {
  "kernelspec": {
   "display_name": "env",
   "language": "python",
   "name": "env"
  }
 },
 "nbformat": 4,
 "nbformat_minor": 5
}
