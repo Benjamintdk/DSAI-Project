{
 "cells": [
  {
   "cell_type": "code",
   "execution_count": null,
   "id": "6d08b65f",
   "metadata": {},
   "outputs": [],
   "source": [
    "#default_exp train"
   ]
  },
  {
   "cell_type": "markdown",
   "id": "7b116cf7",
   "metadata": {},
   "source": [
    "# Train\n",
    "> Training and evaluation of the model using FastAI utilities"
   ]
  },
  {
   "cell_type": "code",
   "execution_count": null,
   "id": "47d9c271",
   "metadata": {},
   "outputs": [],
   "source": [
    "#exporti\n",
    "\n",
    "from fastai.data.core import DataLoaders\n",
    "from DSAI_proj.dataset import *\n",
    "from DSAI_proj.model import *\n",
    "from fastai.vision import *"
   ]
  },
  {
   "cell_type": "code",
   "execution_count": null,
   "id": "4c2159f3",
   "metadata": {},
   "outputs": [],
   "source": [
    "#hide\n",
    "\n",
    "hidden_dim = torch.cat((poster_feature, backdrop_feature, text_feature, meta_feature), dim=1)"
   ]
  }
 ],
 "metadata": {
  "kernelspec": {
   "display_name": "DSAI-Project",
   "language": "python",
   "name": "dsai-project"
  }
 },
 "nbformat": 4,
 "nbformat_minor": 5
}
