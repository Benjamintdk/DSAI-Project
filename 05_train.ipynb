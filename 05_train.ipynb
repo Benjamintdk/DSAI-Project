{
 "cells": [
  {
   "cell_type": "code",
   "execution_count": null,
   "id": "6cd3248b",
   "metadata": {},
   "outputs": [],
   "source": [
    "#hide \n",
    "\n",
    "%load_ext autoreload\n",
    "%autoreload 2"
   ]
  },
  {
   "cell_type": "code",
   "execution_count": null,
   "id": "6d08b65f",
   "metadata": {},
   "outputs": [],
   "source": [
    "#default_exp train"
   ]
  },
  {
   "cell_type": "markdown",
   "id": "7b116cf7",
   "metadata": {},
   "source": [
    "# Train\n",
    "> Training and evaluation of the model using FastAI utilities"
   ]
  },
  {
   "cell_type": "code",
   "execution_count": null,
   "id": "47d9c271",
   "metadata": {},
   "outputs": [],
   "source": [
    "#exporti\n",
    "\n",
    "from transformers import DistilBertTokenizer\n",
    "from fastai.data.core import DataLoaders\n",
    "from fastai.vision.all import *\n",
    "from DSAI_proj.dataset import *\n",
    "from DSAI_proj.model import *\n",
    "from fastai.vision import *\n",
    "from torch import nn\n",
    "from pandas import DataFrame\n",
    "import torch"
   ]
  },
  {
   "cell_type": "markdown",
   "id": "e90951a8",
   "metadata": {},
   "source": [
    "First, let's create our loss function. This will tell our model how wrong it is by calculating how far the predictions are from the output. Here, we will use cross entropy loss as our criterion. We can do this by viewing each token as a separate class, and hence provide a one-for-one comparison of tokens at each position."
   ]
  },
  {
   "cell_type": "code",
   "execution_count": null,
   "id": "4c2159f3",
   "metadata": {},
   "outputs": [],
   "source": [
    "#export\n",
    "\n",
    "class TagLineLoss(nn.Module):\n",
    "    \n",
    "    def __init__(self):\n",
    "        super(TagLineLoss, self).__init__()\n",
    "        self.criterion = torch.nn.CrossEntropyLoss()\n",
    "    \n",
    "    def forward(self, output, target):\n",
    "        return self.criterion(input=output, target=target)"
   ]
  },
  {
   "cell_type": "markdown",
   "id": "9bcd22f6",
   "metadata": {},
   "source": [
    "We also define a splitter which will group the parameters of the different models to allow for unfreezing of the layers subsequently. "
   ]
  },
  {
   "cell_type": "code",
   "execution_count": null,
   "id": "23705b80",
   "metadata": {},
   "outputs": [],
   "source": [
    "#export\n",
    "\n",
    "def splitter_func(model: nn.Module):\n",
    "    return [params(model.cnn_encoder),\n",
    "            params(model.text_encoder),\n",
    "            params(model.meta_encoder),\n",
    "            params(model.decoder)]"
   ]
  },
  {
   "cell_type": "code",
   "execution_count": null,
   "id": "90193426",
   "metadata": {},
   "outputs": [
    {
     "name": "stdout",
     "output_type": "stream",
     "text": [
      "train dataset created!\n",
      "valid dataset created!\n",
      "Model is created!\n"
     ]
    }
   ],
   "source": [
    "#hide\n",
    "\n",
    "# dataset creation\n",
    "tokenizer = DistilBertTokenizer.from_pretrained('distilbert-base-uncased')\n",
    "poster_img_dir = \"poster_img/\"\n",
    "backdrop_img_dir = \"backdrop_img/\"\n",
    "input_max_length, labels_max_length = 80, 10\n",
    "height = width = 128\n",
    "mean, std = [0.485, 0.456, 0.406], [0.229, 0.224, 0.225]\n",
    "bs = 32\n",
    "\n",
    "tfms = Compose([Tokenize(tokenizer=tokenizer, input_max_length=input_max_length, labels_max_length=labels_max_length),\n",
    "                         RandomResizeCrop(width=width, height=height, method=Image.BILINEAR),\n",
    "                         ToTensor(),\n",
    "                         NormalizeStandardize(mean=mean, std=std)])\n",
    "\n",
    "train_ds = MovieDataset(poster_img_dir=poster_img_dir,\n",
    "                        backdrop_img_dir=backdrop_img_dir,\n",
    "                        ds_type=\"train\",\n",
    "                        transforms=tfms)\n",
    "\n",
    "valid_ds = MovieDataset(poster_img_dir=poster_img_dir,\n",
    "                        backdrop_img_dir=backdrop_img_dir,\n",
    "                        ds_type=\"valid\",\n",
    "                        transforms=tfms)\n",
    "\n",
    "dls = DataLoaders.from_dsets(train_ds, valid_ds, batch_size=bs)\n",
    "sample = dls.one_batch()\n",
    "model = TaglinePredictorModel(vocab_size=30522, meta_features=sample[0][3].shape[-1])"
   ]
  },
  {
   "cell_type": "markdown",
   "id": "7c058c3f",
   "metadata": {},
   "source": [
    "Finally, we can begin the training. To do this, we leverage the FastAI library as a training vehicle as it provides many advanced training techniques at our fingertips with simple APIs. "
   ]
  },
  {
   "cell_type": "code",
   "execution_count": null,
   "id": "7bc423d5",
   "metadata": {},
   "outputs": [],
   "source": [
    "learn = Learner(dls, model, loss_func=TagLineLoss(), opt_func=Adam, splitter=splitter_func, cbs=CudaCallback, wd=1e-3).to_fp16()"
   ]
  },
  {
   "cell_type": "markdown",
   "id": "eeff1b15",
   "metadata": {},
   "source": [
    "We run a function called lr_find first which plots different learning rates against loss. We use this to determine an optimal learning rate for our task. We pick the learning rate corresponding to the middle point of the steepest part of the downward sloping curve, which in this case is about 1e-2."
   ]
  },
  {
   "cell_type": "code",
   "execution_count": null,
   "id": "e25da7f8",
   "metadata": {},
   "outputs": [
    {
     "data": {
      "text/html": [],
      "text/plain": [
       "<IPython.core.display.HTML object>"
      ]
     },
     "metadata": {},
     "output_type": "display_data"
    },
    {
     "data": {
      "text/plain": [
       "SuggestedLRs(lr_min=0.10964782238006592, lr_steep=0.9120108485221863)"
      ]
     },
     "execution_count": null,
     "metadata": {},
     "output_type": "execute_result"
    },
    {
     "data": {
      "image/png": "[encoded data removed]",
      "text/plain": [
       "<Figure size 432x288 with 1 Axes>"
      ]
     },
     "metadata": {
      "needs_background": "light"
     },
     "output_type": "display_data"
    }
   ],
   "source": [
    "learn.lr_find()"
   ]
  },
  {
   "cell_type": "markdown",
   "id": "da267d3e",
   "metadata": {},
   "source": [
    "We then run a fit on the model for 2 epochs first to verify it's progress. "
   ]
  },
  {
   "cell_type": "code",
   "execution_count": null,
   "id": "98c112f9",
   "metadata": {},
   "outputs": [
    {
     "data": {
      "text/html": [
       "<table border=\"1\" class=\"dataframe\">\n",
       "  <thead>\n",
       "    <tr style=\"text-align: left;\">\n",
       "      <th>epoch</th>\n",
       "      <th>train_loss</th>\n",
       "      <th>valid_loss</th>\n",
       "      <th>time</th>\n",
       "    </tr>\n",
       "  </thead>\n",
       "  <tbody>\n",
       "    <tr>\n",
       "      <td>0</td>\n",
       "      <td>10.092417</td>\n",
       "      <td>10.073622</td>\n",
       "      <td>00:40</td>\n",
       "    </tr>\n",
       "    <tr>\n",
       "      <td>1</td>\n",
       "      <td>10.074081</td>\n",
       "      <td>10.073622</td>\n",
       "      <td>00:41</td>\n",
       "    </tr>\n",
       "    <tr>\n",
       "      <td>2</td>\n",
       "      <td>10.073076</td>\n",
       "      <td>10.073622</td>\n",
       "      <td>00:40</td>\n",
       "    </tr>\n",
       "  </tbody>\n",
       "</table>"
      ],
      "text/plain": [
       "<IPython.core.display.HTML object>"
      ]
     },
     "metadata": {},
     "output_type": "display_data"
    }
   ],
   "source": [
    "learn.fit_one_cycle(3, 1e-1)"
   ]
  },
  {
   "cell_type": "markdown",
   "id": "a3771ce2",
   "metadata": {},
   "source": [
    "This is followed by a unfreezing of all layers and running of lr_find again to find the optimal lr range for this next phase of training. We notice that the graph now is relatively flat before suddenly spiking upwards. We will pick a learning rate way before the training diverges, in this case about 1e-5. \n",
    "\n",
    "We use something called differential learning rates to train different parts of the model at different learning rates. This is done at the next stage using the slice. The upper bound will be set at a factor of 10 less than the initial learning rate as good practice, so we will use 1e-3 in this case. This time, we train for 3 epochs instead as well."
   ]
  },
  {
   "cell_type": "code",
   "execution_count": null,
   "id": "4f056485",
   "metadata": {},
   "outputs": [
    {
     "data": {
      "text/html": [],
      "text/plain": [
       "<IPython.core.display.HTML object>"
      ]
     },
     "metadata": {},
     "output_type": "display_data"
    },
    {
     "data": {
      "text/plain": [
       "SuggestedLRs(lr_min=0.00010000000474974513, lr_steep=4.365158383734524e-05)"
      ]
     },
     "execution_count": null,
     "metadata": {},
     "output_type": "execute_result"
    },
    {
     "data": {
      "image/png": "[encoded data removed]",
      "text/plain": [
       "<Figure size 432x288 with 1 Axes>"
      ]
     },
     "metadata": {
      "needs_background": "light"
     },
     "output_type": "display_data"
    }
   ],
   "source": [
    "learn.unfreeze()\n",
    "learn.lr_find()"
   ]
  },
  {
   "cell_type": "code",
   "execution_count": null,
   "id": "06f1294a",
   "metadata": {},
   "outputs": [
    {
     "data": {
      "text/html": [
       "<table border=\"1\" class=\"dataframe\">\n",
       "  <thead>\n",
       "    <tr style=\"text-align: left;\">\n",
       "      <th>epoch</th>\n",
       "      <th>train_loss</th>\n",
       "      <th>valid_loss</th>\n",
       "      <th>time</th>\n",
       "    </tr>\n",
       "  </thead>\n",
       "  <tbody>\n",
       "    <tr>\n",
       "      <td>0</td>\n",
       "      <td>10.068838</td>\n",
       "      <td>10.073622</td>\n",
       "      <td>00:49</td>\n",
       "    </tr>\n",
       "    <tr>\n",
       "      <td>1</td>\n",
       "      <td>10.070781</td>\n",
       "      <td>10.073622</td>\n",
       "      <td>00:50</td>\n",
       "    </tr>\n",
       "    <tr>\n",
       "      <td>2</td>\n",
       "      <td>10.069448</td>\n",
       "      <td>10.073622</td>\n",
       "      <td>00:50</td>\n",
       "    </tr>\n",
       "    <tr>\n",
       "      <td>3</td>\n",
       "      <td>10.069201</td>\n",
       "      <td>10.073622</td>\n",
       "      <td>00:49</td>\n",
       "    </tr>\n",
       "    <tr>\n",
       "      <td>4</td>\n",
       "      <td>10.070787</td>\n",
       "      <td>10.073622</td>\n",
       "      <td>00:50</td>\n",
       "    </tr>\n",
       "  </tbody>\n",
       "</table>"
      ],
      "text/plain": [
       "<IPython.core.display.HTML object>"
      ]
     },
     "metadata": {},
     "output_type": "display_data"
    }
   ],
   "source": [
    "learn.fit_one_cycle(5, slice(1e-3, 1e-2))"
   ]
  },
  {
   "cell_type": "markdown",
   "id": "4d4ecf7d",
   "metadata": {},
   "source": [
    "As we can see, even with extreme measures taken to avoid overfitting such as unfreezing batch/layer norm during fine-tuning, reducing batch size, adding weight decay, and cranking up the learning rate, the model still overfits at practically the first epoch. This probably means that the model architecture itself can be further improved, as well as the augmentation techniques. We shall explore these further in the next section on analysis. "
   ]
  },
  {
   "cell_type": "markdown",
   "id": "8e98df8f",
   "metadata": {},
   "source": [
    "For now, we shall save the model to experiment on the test set."
   ]
  },
  {
   "cell_type": "code",
   "execution_count": null,
   "id": "e81db382",
   "metadata": {},
   "outputs": [],
   "source": [
    "model = learn.model\n",
    "save_path = 'saved_model.pt'\n",
    "torch.save(model.state_dict(), save_path)"
   ]
  },
  {
   "cell_type": "markdown",
   "id": "435cbcea",
   "metadata": {},
   "source": [
    "We shall also write the necessary functions for loading the saved model and generating the predictions."
   ]
  },
  {
   "cell_type": "code",
   "execution_count": null,
   "id": "fb1db8be",
   "metadata": {},
   "outputs": [],
   "source": [
    "#exporti\n",
    "\n",
    "def load_model(model_path: str, **kwargs):\n",
    "    model = TaglinePredictorModel(**kwargs)\n",
    "    model.load_state_dict(torch.load(model_path))\n",
    "    model.eval()\n",
    "    model.to(\"cpu\")\n",
    "    return model"
   ]
  },
  {
   "cell_type": "code",
   "execution_count": null,
   "id": "e6c04557",
   "metadata": {},
   "outputs": [],
   "source": [
    "#export\n",
    "\n",
    "def predict_one_batch(tokenizer,\n",
    "                      dls,\n",
    "                      mode: str,\n",
    "                      model_path: str) -> DataFrame:\n",
    "\n",
    "    if mode != \"train\":\n",
    "        x, y = dls.valid.one_batch()\n",
    "    else:\n",
    "        x, y = dls.train.one_batch()\n",
    "    model = load_model(model_path=model_path, vocab_size=30522, meta_features=x[3].shape[-1])\n",
    "    x = model(x)\n",
    "    preds = torch.argmax(x, dim=1)\n",
    "    results = {\"preds\" : [tokenizer.decode(p) for p in preds], \"labels\" : [tokenizer.decode(t) for t in y]}\n",
    "    return pd.DataFrame.from_dict(results)"
   ]
  },
  {
   "cell_type": "code",
   "execution_count": null,
   "id": "8c4e3888",
   "metadata": {},
   "outputs": [
    {
     "name": "stdout",
     "output_type": "stream",
     "text": [
      "Model is created!\n"
     ]
    },
    {
     "data": {
      "text/html": [
       "<div>\n",
       "<style scoped>\n",
       "    .dataframe tbody tr th:only-of-type {\n",
       "        vertical-align: middle;\n",
       "    }\n",
       "\n",
       "    .dataframe tbody tr th {\n",
       "        vertical-align: top;\n",
       "    }\n",
       "\n",
       "    .dataframe thead th {\n",
       "        text-align: right;\n",
       "    }\n",
       "</style>\n",
       "<table border=\"1\" class=\"dataframe\">\n",
       "  <thead>\n",
       "    <tr style=\"text-align: right;\">\n",
       "      <th></th>\n",
       "      <th>preds</th>\n",
       "      <th>labels</th>\n",
       "    </tr>\n",
       "  </thead>\n",
       "  <tbody>\n",
       "    <tr>\n",
       "      <th>0</th>\n",
       "      <td>[CLS] the's... [PAD] [PAD] [SEP]</td>\n",
       "      <td>[CLS] rule school save world [SEP] [PAD] [PAD] [PAD] [PAD]</td>\n",
       "    </tr>\n",
       "    <tr>\n",
       "      <th>1</th>\n",
       "      <td>[CLS] the is s... [PAD] [PAD] [SEP]</td>\n",
       "      <td>[CLS] every generation legend every journey first step every [SEP]</td>\n",
       "    </tr>\n",
       "    <tr>\n",
       "      <th>2</th>\n",
       "      <td>[CLS] the's. the.. [PAD] [SEP]</td>\n",
       "      <td>[CLS] bad cops good cops's bullitt [SEP]</td>\n",
       "    </tr>\n",
       "    <tr>\n",
       "      <th>3</th>\n",
       "      <td>[CLS] the's.... [PAD] [SEP]</td>\n",
       "      <td>[CLS] story won't go away [SEP] [PAD]</td>\n",
       "    </tr>\n",
       "    <tr>\n",
       "      <th>4</th>\n",
       "      <td>[CLS] the the s.... [PAD] [SEP]</td>\n",
       "      <td>[CLS] one pillow bed... one desire [SEP]</td>\n",
       "    </tr>\n",
       "  </tbody>\n",
       "</table>\n",
       "</div>"
      ],
      "text/plain": [
       "                                 preds  \\\n",
       "0     [CLS] the's... [PAD] [PAD] [SEP]   \n",
       "1  [CLS] the is s... [PAD] [PAD] [SEP]   \n",
       "2       [CLS] the's. the.. [PAD] [SEP]   \n",
       "3          [CLS] the's.... [PAD] [SEP]   \n",
       "4      [CLS] the the s.... [PAD] [SEP]   \n",
       "\n",
       "                                                               labels  \n",
       "0          [CLS] rule school save world [SEP] [PAD] [PAD] [PAD] [PAD]  \n",
       "1  [CLS] every generation legend every journey first step every [SEP]  \n",
       "2                            [CLS] bad cops good cops's bullitt [SEP]  \n",
       "3                               [CLS] story won't go away [SEP] [PAD]  \n",
       "4                            [CLS] one pillow bed... one desire [SEP]  "
      ]
     },
     "execution_count": null,
     "metadata": {},
     "output_type": "execute_result"
    }
   ],
   "source": [
    "results_df = predict_one_batch(tokenizer=tokenizer, dls=dls, mode=\"train\", model_path=save_path)\n",
    "results_df.head()"
   ]
  },
  {
   "cell_type": "code",
   "execution_count": null,
   "id": "b65b1687",
   "metadata": {},
   "outputs": [],
   "source": []
  }
 ],
 "metadata": {
  "kernelspec": {
   "display_name": "DSAI-Project",
   "language": "python",
   "name": "dsai-project"
  }
 },
 "nbformat": 4,
 "nbformat_minor": 5
}
