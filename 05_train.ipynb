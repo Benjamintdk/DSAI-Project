{
 "cells": [
  {
   "cell_type": "code",
   "execution_count": null,
   "id": "6cd3248b",
   "metadata": {},
   "outputs": [],
   "source": [
    "#hide \n",
    "\n",
    "%load_ext autoreload\n",
    "%autoreload 2"
   ]
  },
  {
   "cell_type": "code",
   "execution_count": null,
   "id": "6d08b65f",
   "metadata": {},
   "outputs": [],
   "source": [
    "#default_exp train"
   ]
  },
  {
   "cell_type": "markdown",
   "id": "7b116cf7",
   "metadata": {},
   "source": [
    "# Train\n",
    "> Training and evaluation of the model using FastAI utilities"
   ]
  },
  {
   "cell_type": "code",
   "execution_count": null,
   "id": "47d9c271",
   "metadata": {},
   "outputs": [],
   "source": [
    "#exporti\n",
    "\n",
    "from transformers import DistilBertTokenizer\n",
    "from fastai.data.core import DataLoaders\n",
    "from fastai.vision.all import *\n",
    "from DSAI_proj.dataset import *\n",
    "from DSAI_proj.model import *\n",
    "from fastai.vision import *\n",
    "from torch import nn\n",
    "import torch"
   ]
  },
  {
   "cell_type": "markdown",
   "id": "e90951a8",
   "metadata": {},
   "source": [
    "First, let's create our loss function. This will tell our model how wrong it is by calculating how far the predictions are from the output. Here, we will use cross entropy loss as our criterion. We can do this by viewing each token as a separate class, and hence provide a one-for-one comparison of tokens at each position."
   ]
  },
  {
   "cell_type": "code",
   "execution_count": null,
   "id": "4c2159f3",
   "metadata": {},
   "outputs": [],
   "source": [
    "#export\n",
    "\n",
    "class TagLineLoss(nn.Module):\n",
    "    \n",
    "    def __init__(self):\n",
    "        super(TagLineLoss, self).__init__()\n",
    "        self.criterion = torch.nn.CrossEntropyLoss()\n",
    "    \n",
    "    def forward(self, output, target):\n",
    "        x = F.log_softmax(output, dim=-1).permute(0, 2, 1)\n",
    "        return self.criterion(input=x, target=target)"
   ]
  },
  {
   "cell_type": "markdown",
   "id": "9bcd22f6",
   "metadata": {},
   "source": [
    "We also define a splitter which will group the parameters of the different models to allow for unfreezing of the layers subsequently. "
   ]
  },
  {
   "cell_type": "code",
   "execution_count": null,
   "id": "23705b80",
   "metadata": {},
   "outputs": [],
   "source": [
    "#export\n",
    "\n",
    "def splitter_func(model: nn.Module):\n",
    "    return [params(model.cnn_encoder),\n",
    "            params(model.text_encoder),\n",
    "            params(model.meta_encoder),\n",
    "            params(model.decoder)]"
   ]
  },
  {
   "cell_type": "markdown",
   "id": "e15bc540",
   "metadata": {},
   "source": [
    "Same as with the previously, let us create the datasets, then the dataloaders, and followed by the model. "
   ]
  },
  {
   "cell_type": "code",
   "execution_count": null,
   "id": "90193426",
   "metadata": {},
   "outputs": [
    {
     "name": "stdout",
     "output_type": "stream",
     "text": [
      "train dataset created!\n",
      "valid dataset created!\n",
      "Model is created!\n"
     ]
    }
   ],
   "source": [
    "# dataset creation\n",
    "tokenizer = DistilBertTokenizer.from_pretrained('distilbert-base-uncased')\n",
    "poster_img_dir = \"poster_img/\"\n",
    "backdrop_img_dir = \"backdrop_img/\"\n",
    "input_max_length, labels_max_length = 80, 10\n",
    "height = width = 128\n",
    "mean, std = [0.485, 0.456, 0.406], [0.229, 0.224, 0.225]\n",
    "bs = 32\n",
    "\n",
    "tfms = Compose([Tokenize(tokenizer=tokenizer, input_max_length=input_max_length, labels_max_length=labels_max_length),\n",
    "                         RandomResizeCrop(width=width, height=height, method=Image.BILINEAR),\n",
    "                         ToTensor(),\n",
    "                         NormalizeStandardize(mean=mean, std=std)])\n",
    "\n",
    "train_ds = MovieDataset(poster_img_dir=poster_img_dir,\n",
    "                        backdrop_img_dir=backdrop_img_dir,\n",
    "                        ds_type=\"train\",\n",
    "                        transforms=tfms)\n",
    "\n",
    "valid_ds = MovieDataset(poster_img_dir=poster_img_dir,\n",
    "                        backdrop_img_dir=backdrop_img_dir,\n",
    "                        ds_type=\"valid\",\n",
    "                        transforms=tfms)\n",
    "\n",
    "dls = DataLoaders.from_dsets(train_ds, valid_ds, batch_size=bs)\n",
    "sample = dls.one_batch()\n",
    "model = TaglinePredictorModel(vocab_size=30522, meta_features=sample[0][3].shape[-1])"
   ]
  },
  {
   "cell_type": "markdown",
   "id": "7c058c3f",
   "metadata": {},
   "source": [
    "Finally, we can begin the training. To do this, we leverage the FastAI library as a training vehicle as it provides many advanced training techniques at our fingertips with simple APIs. "
   ]
  },
  {
   "cell_type": "code",
   "execution_count": null,
   "id": "7bc423d5",
   "metadata": {},
   "outputs": [],
   "source": [
    "learn = Learner(dls, model, loss_func=TagLineLoss(), opt_func=Adam, splitter=splitter_func, cbs=CudaCallback, wd=1e-3).to_fp16()"
   ]
  },
  {
   "cell_type": "code",
   "execution_count": null,
   "id": "e25da7f8",
   "metadata": {},
   "outputs": [
    {
     "data": {
      "text/html": [],
      "text/plain": [
       "<IPython.core.display.HTML object>"
      ]
     },
     "metadata": {},
     "output_type": "display_data"
    },
    {
     "data": {
      "text/plain": [
       "SuggestedLRs(lr_min=0.005754399299621582, lr_steep=0.019054606556892395)"
      ]
     },
     "execution_count": null,
     "metadata": {},
     "output_type": "execute_result"
    },
    {
     "data": {
      "image/png": "[encoded data removed]",
      "text/plain": [
       "<Figure size 432x288 with 1 Axes>"
      ]
     },
     "metadata": {
      "needs_background": "light"
     },
     "output_type": "display_data"
    }
   ],
   "source": [
    "learn.lr_find()"
   ]
  },
  {
   "cell_type": "code",
   "execution_count": null,
   "id": "98c112f9",
   "metadata": {},
   "outputs": [
    {
     "data": {
      "text/html": [
       "<table border=\"1\" class=\"dataframe\">\n",
       "  <thead>\n",
       "    <tr style=\"text-align: left;\">\n",
       "      <th>epoch</th>\n",
       "      <th>train_loss</th>\n",
       "      <th>valid_loss</th>\n",
       "      <th>time</th>\n",
       "    </tr>\n",
       "  </thead>\n",
       "  <tbody>\n",
       "    <tr>\n",
       "      <td>0</td>\n",
       "      <td>8.106811</td>\n",
       "      <td>6.095938</td>\n",
       "      <td>00:39</td>\n",
       "    </tr>\n",
       "    <tr>\n",
       "      <td>1</td>\n",
       "      <td>7.586563</td>\n",
       "      <td>6.031248</td>\n",
       "      <td>00:39</td>\n",
       "    </tr>\n",
       "  </tbody>\n",
       "</table>"
      ],
      "text/plain": [
       "<IPython.core.display.HTML object>"
      ]
     },
     "metadata": {},
     "output_type": "display_data"
    }
   ],
   "source": [
    "learn.fit_one_cycle(2, 1e-2)"
   ]
  },
  {
   "cell_type": "code",
   "execution_count": null,
   "id": "4f056485",
   "metadata": {},
   "outputs": [],
   "source": [
    "learn.unfreeze()"
   ]
  },
  {
   "cell_type": "code",
   "execution_count": null,
   "id": "42221892",
   "metadata": {},
   "outputs": [
    {
     "data": {
      "text/html": [],
      "text/plain": [
       "<IPython.core.display.HTML object>"
      ]
     },
     "metadata": {},
     "output_type": "display_data"
    },
    {
     "data": {
      "text/plain": [
       "SuggestedLRs(lr_min=0.02089296132326126, lr_steep=0.17378008365631104)"
      ]
     },
     "execution_count": null,
     "metadata": {},
     "output_type": "execute_result"
    },
    {
     "data": {
      "image/png": "[encoded data removed]",
      "text/plain": [
       "<Figure size 432x288 with 1 Axes>"
      ]
     },
     "metadata": {
      "needs_background": "light"
     },
     "output_type": "display_data"
    }
   ],
   "source": [
    "learn.lr_find()"
   ]
  },
  {
   "cell_type": "code",
   "execution_count": null,
   "id": "06f1294a",
   "metadata": {},
   "outputs": [
    {
     "data": {
      "text/html": [
       "<table border=\"1\" class=\"dataframe\">\n",
       "  <thead>\n",
       "    <tr style=\"text-align: left;\">\n",
       "      <th>epoch</th>\n",
       "      <th>train_loss</th>\n",
       "      <th>valid_loss</th>\n",
       "      <th>time</th>\n",
       "    </tr>\n",
       "  </thead>\n",
       "  <tbody>\n",
       "    <tr>\n",
       "      <td>0</td>\n",
       "      <td>7.335484</td>\n",
       "      <td>6.138623</td>\n",
       "      <td>00:51</td>\n",
       "    </tr>\n",
       "    <tr>\n",
       "      <td>1</td>\n",
       "      <td>7.145704</td>\n",
       "      <td>5.996723</td>\n",
       "      <td>00:48</td>\n",
       "    </tr>\n",
       "    <tr>\n",
       "      <td>2</td>\n",
       "      <td>6.942595</td>\n",
       "      <td>6.087477</td>\n",
       "      <td>00:47</td>\n",
       "    </tr>\n",
       "  </tbody>\n",
       "</table>"
      ],
      "text/plain": [
       "<IPython.core.display.HTML object>"
      ]
     },
     "metadata": {},
     "output_type": "display_data"
    }
   ],
   "source": [
    "learn.fit_one_cycle(3, slice(5e-5, 5e-4))"
   ]
  },
  {
   "cell_type": "markdown",
   "id": "4d4ecf7d",
   "metadata": {},
   "source": [
    "As we can see, even with extreme measures taken to avoid overfitting such as unfreezing batch/layer norm during fine-tuning, reducing batch size, adding weight decay, and cranking up the learning rate, the model still overfits at practically the first epoch. This probably means that the model architecture itself can be further improved, as well as the augmentation techniques. We shall explore these further in the next section on analysis.\n",
    "\n",
    "For now, we shall save the model to experiment on the test set. "
   ]
  },
  {
   "cell_type": "code",
   "execution_count": null,
   "id": "e81db382",
   "metadata": {},
   "outputs": [],
   "source": [
    "model = learn.model\n",
    "save_path = 'saved_model.pt'\n",
    "torch.save(model.state_dict(), save_path)"
   ]
  },
  {
   "cell_type": "code",
   "execution_count": null,
   "id": "388fe873",
   "metadata": {},
   "outputs": [],
   "source": []
  }
 ],
 "metadata": {
  "kernelspec": {
   "display_name": "DSAI-Project",
   "language": "python",
   "name": "dsai-project"
  }
 },
 "nbformat": 4,
 "nbformat_minor": 5
}
