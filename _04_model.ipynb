{
 "cells": [
  {
   "cell_type": "code",
   "execution_count": null,
   "id": "069a9be1",
   "metadata": {},
   "outputs": [],
   "source": [
    "#default_exp model"
   ]
  },
  {
   "cell_type": "markdown",
   "id": "1b3ca8eb",
   "metadata": {},
   "source": [
    "# Model\n",
    "> Our project will require the use of 4 separate types of models: an image model, a text model, a tabular model, and a decoder network. The relationship between the 4 can be seen in the figure below. "
   ]
  },
  {
   "cell_type": "code",
   "execution_count": null,
   "id": "730428ea",
   "metadata": {},
   "outputs": [],
   "source": [
    "#exporti\n",
    "\n",
    "from fastai.data.core import DataLoaders\n",
    "from torch import nn"
   ]
  },
  {
   "cell_type": "code",
   "execution_count": null,
   "id": "6365b3fd",
   "metadata": {},
   "outputs": [],
   "source": [
    "#exporti\n",
    "\n",
    "def cnn_encoder():\n",
    "    pass\n",
    "\n",
    "def text_encoder():\n",
    "    pass\n",
    "\n",
    "def meta_encoder():\n",
    "    pass"
   ]
  },
  {
   "cell_type": "code",
   "execution_count": null,
   "id": "d8e55dc6",
   "metadata": {},
   "outputs": [],
   "source": [
    "class TaglinePredictorModel(nn.Module):\n",
    "    \n",
    "    def __init__(self):\n",
    "        super(TaglinePredictorModel, self).__init__()\n",
    "        self.cnn_encoder =\n",
    "        self.text_encoder = \n",
    "        self.meta_encoder\n",
    "        self.decoder = \n",
    "        \n",
    "    def forward(self, x: dict):\n",
    "        "
   ]
  }
 ],
 "metadata": {
  "kernelspec": {
   "display_name": "DSAI-Project",
   "language": "python",
   "name": "dsai-project"
  }
 },
 "nbformat": 4,
 "nbformat_minor": 5
}
