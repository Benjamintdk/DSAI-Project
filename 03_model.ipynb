{
 "cells": [
  {
   "cell_type": "code",
   "execution_count": null,
   "id": "adjusted-industry",
   "metadata": {},
   "outputs": [],
   "source": [
    "#default_exp model "
   ]
  },
  {
   "cell_type": "markdown",
   "id": "exclusive-shirt",
   "metadata": {},
   "source": [
    "# Modelling\n",
    "> Instantiates and defines the models that we will be using for our project."
   ]
  },
  {
   "cell_type": "markdown",
   "id": "round-observation",
   "metadata": {},
   "source": [
    "Our project will require the use of 4 separate types of models: an image model, a text model, a tabular model, and a decoder network. The relationship between the 4 can be seen in the figure below. "
   ]
  }
 ],
 "metadata": {
  "kernelspec": {
   "display_name": "DSAI-Project",
   "language": "python",
   "name": "dsai-project"
  }
 },
 "nbformat": 4,
 "nbformat_minor": 5
}
