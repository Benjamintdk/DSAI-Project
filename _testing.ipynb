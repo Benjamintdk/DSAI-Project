{
 "cells": [
  {
   "cell_type": "code",
   "execution_count": null,
   "id": "sweet-alert",
   "metadata": {},
   "outputs": [],
   "source": [
    "from pandas import DataFrame\n",
    "from sklearn.utils import shuffle\n",
    "import os\n",
    "import concurrent\n",
    "import requests\n",
    "import pandas as pd\n",
    "from nbdev.showdoc import *\n",
    "from fastcore.test import *"
   ]
  },
  {
   "cell_type": "code",
   "execution_count": null,
   "id": "stable-nursery",
   "metadata": {},
   "outputs": [],
   "source": [
    "import numpy as np\n",
    "import pandas as pd\n",
    "import seaborn as sb\n",
    "import matplotlib.pyplot as plt # we only need pyplot\n",
    "\n",
    "import json"
   ]
  },
  {
   "cell_type": "code",
   "execution_count": null,
   "id": "republican-perfume",
   "metadata": {},
   "outputs": [],
   "source": [
    "from pandas.io.json import json_normalize"
   ]
  },
  {
   "cell_type": "code",
   "execution_count": null,
   "id": "radical-facility",
   "metadata": {},
   "outputs": [],
   "source": [
    "data = pd.read_csv('train.csv')"
   ]
  },
  {
   "cell_type": "code",
   "execution_count": null,
   "id": "white-caribbean",
   "metadata": {},
   "outputs": [],
   "source": [
    "df = pd.DataFrame(data)\n",
    "df = df.drop(['belongs_to_collection','homepage','id','imdb_id','production_companies'],axis = 1)"
   ]
  },
  {
   "cell_type": "code",
   "execution_count": null,
   "id": "abandoned-affiliate",
   "metadata": {},
   "outputs": [],
   "source": [
    "df=df.drop(['popularity','original_language','original_title','revenue','runtime','spoken_languages','status'],axis = 1)"
   ]
  },
  {
   "cell_type": "code",
   "execution_count": null,
   "id": "congressional-contact",
   "metadata": {},
   "outputs": [],
   "source": [
    "df=df.drop(['video','vote_average','vote_count'],axis = 1)\n"
   ]
  },
  {
   "cell_type": "code",
   "execution_count": null,
   "id": "equipped-medication",
   "metadata": {},
   "outputs": [],
   "source": [
    "df = df.drop(['release_date','production_countries'],axis = 1)"
   ]
  },
  {
   "cell_type": "code",
   "execution_count": null,
   "id": "mighty-teens",
   "metadata": {},
   "outputs": [
    {
     "data": {
      "text/plain": [
       "False    916\n",
       "Name: adult, dtype: int64"
      ]
     },
     "execution_count": null,
     "metadata": {},
     "output_type": "execute_result"
    }
   ],
   "source": [
    "df['adult'].value_counts()"
   ]
  },
  {
   "cell_type": "code",
   "execution_count": null,
   "id": "mobile-service",
   "metadata": {},
   "outputs": [],
   "source": [
    "g = df['genres']\n",
    "g"
   ]
  },
  {
   "cell_type": "code",
   "execution_count": null,
   "id": "scheduled-liberty",
   "metadata": {},
   "outputs": [],
   "source": [
    "g = [[x['id'] for x in eval(list_dict)] for list_dict in df['genres']]"
   ]
  },
  {
   "cell_type": "code",
   "execution_count": null,
   "id": "graphic-samuel",
   "metadata": {},
   "outputs": [],
   "source": [
    "g"
   ]
  },
  {
   "cell_type": "code",
   "execution_count": null,
   "id": "whole-sheep",
   "metadata": {},
   "outputs": [],
   "source": [
    "names = [[x['name'] for x in eval(list_dict)] for list_dict in data['genres']]"
   ]
  },
  {
   "cell_type": "code",
   "execution_count": null,
   "id": "russian-jerusalem",
   "metadata": {},
   "outputs": [],
   "source": [
    "names"
   ]
  },
  {
   "cell_type": "code",
   "execution_count": null,
   "id": "operating-trustee",
   "metadata": {},
   "outputs": [],
   "source": [
    "df['genres'] = [[x['id'] for x in eval(list_dict)] for list_dict in df['genres']]"
   ]
  },
  {
   "cell_type": "code",
   "execution_count": null,
   "id": "inner-military",
   "metadata": {},
   "outputs": [],
   "source": [
    "df.head()"
   ]
  },
  {
   "cell_type": "code",
   "execution_count": null,
   "id": "official-winter",
   "metadata": {},
   "outputs": [],
   "source": [
    "df['overview'][0]"
   ]
  },
  {
   "cell_type": "code",
   "execution_count": null,
   "id": "proud-assessment",
   "metadata": {},
   "outputs": [],
   "source": [
    "type(df['title'][0])"
   ]
  },
  {
   "cell_type": "code",
   "execution_count": null,
   "id": "tamil-momentum",
   "metadata": {},
   "outputs": [],
   "source": [
    "\n",
    "\n",
    "link = df['backdrop_path'][0]\n",
    "# dirname = os.path.dirname(\"__file__\")\n",
    "response = requests.get(\"https://image.tmdb.org/t/p/original\"+link)\n",
    "file = open(\".\\\\backdrop_img\\\\\"+df['title'][0]+\".jpg\", \"wb\")\n",
    "file.write(response.content)\n",
    "file.close()"
   ]
  },
  {
   "cell_type": "code",
   "execution_count": null,
   "id": "disabled-trinity",
   "metadata": {},
   "outputs": [],
   "source": [
    "try:\n",
    "    os.makedirs(\".\\\\backdrop\")\n",
    "except FileExistsError:\n",
    "# directory already exists\n",
    "    pass"
   ]
  },
  {
   "cell_type": "code",
   "execution_count": null,
   "id": "superior-gallery",
   "metadata": {},
   "outputs": [],
   "source": [
    "for cnt,x in enumerate(df['backdrop_path']):\n",
    "    \n",
    "    response = requests.get(\"https://image.tmdb.org/t/p/original\"+str(x))\n",
    "    file = open(\".\\\\backdrop_img\\\\\"+df['title'][cnt]+\".jpg\", \"wb\")\n",
    "    file.write(response.content)\n",
    "    file.close()\n",
    "    "
   ]
  },
  {
   "cell_type": "code",
   "execution_count": null,
   "id": "quality-bouquet",
   "metadata": {},
   "outputs": [],
   "source": [
    "def drop_col(data: DataFrame)->DataFrame:\n",
    "        \n",
    "        df = data.drop(['belongs_to_collection','homepage','imdb_id','production_companies','popularity','original_language','original_title','revenue','runtime','spoken_languages','status','video','vote_average','vote_count','release_date','production_countries','budget'],axis = 1)\n",
    "        df =df.drop(df.columns[0], axis=1)\n",
    "        return df"
   ]
  },
  {
   "cell_type": "code",
   "execution_count": null,
   "id": "sweet-packet",
   "metadata": {},
   "outputs": [],
   "source": [
    "def clean_genre(data:DataFrame)-> DataFrame:\n",
    "    \n",
    "    df['genres'] = [[x['name'] for x in eval(list_dict)] for list_dict in df['genres']]\n",
    "    return df"
   ]
  },
  {
   "cell_type": "code",
   "execution_count": null,
   "id": "parliamentary-academy",
   "metadata": {},
   "outputs": [],
   "source": [
    "df = drop_col(data)"
   ]
  },
  {
   "cell_type": "code",
   "execution_count": null,
   "id": "federal-hollywood",
   "metadata": {},
   "outputs": [],
   "source": [
    "df1 = df\n",
    "df1 = clean_genre(df)"
   ]
  },
  {
   "cell_type": "code",
   "execution_count": null,
   "id": "olive-debate",
   "metadata": {},
   "outputs": [],
   "source": [
    "from sklearn.preprocessing import MultiLabelBinarizer"
   ]
  },
  {
   "cell_type": "code",
   "execution_count": null,
   "id": "illegal-blame",
   "metadata": {},
   "outputs": [],
   "source": [
    "mlb = MultiLabelBinarizer(sparse_output=True)"
   ]
  },
  {
   "cell_type": "code",
   "execution_count": null,
   "id": "terminal-fundamental",
   "metadata": {},
   "outputs": [],
   "source": [
    "df_ohc = df.join(\n",
    "            pd.DataFrame.sparse.from_spmatrix(\n",
    "                mlb.fit_transform(df.pop('genres')),\n",
    "                index=df.index,\n",
    "                columns=mlb.classes_))"
   ]
  },
  {
   "cell_type": "code",
   "execution_count": null,
   "id": "green-vertex",
   "metadata": {},
   "outputs": [
    {
     "name": "stdout",
     "output_type": "stream",
     "text": [
      "['adult', 'backdrop_path', 'id', 'overview', 'poster_path', 'tagline', 'title', 'Action', 'Adventure', 'Animation', 'Comedy', 'Crime', 'Documentary', 'Drama', 'Family', 'Fantasy', 'History', 'Horror', 'Music', 'Mystery', 'Romance', 'Science Fiction', 'TV Movie', 'Thriller', 'War', 'Western']\n"
     ]
    }
   ],
   "source": [
    "print(list(df_ohc.columns))"
   ]
  }
 ],
 "metadata": {
  "kernelspec": {
   "display_name": "Python 3",
   "language": "python",
   "name": "python3"
  }
 },
 "nbformat": 4,
 "nbformat_minor": 5
}
