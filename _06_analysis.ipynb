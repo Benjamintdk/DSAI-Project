{
 "cells": [
  {
   "cell_type": "code",
   "execution_count": null,
   "id": "9fefc8a2",
   "metadata": {},
   "outputs": [],
   "source": [
    "#hide \n",
    "\n",
    "%load_ext autoreload\n",
    "%autoreload 2"
   ]
  },
  {
   "cell_type": "code",
   "execution_count": null,
   "id": "a03e0ee3",
   "metadata": {},
   "outputs": [],
   "source": [
    "#default_exp analysis"
   ]
  },
  {
   "cell_type": "markdown",
   "id": "89f86ac6",
   "metadata": {},
   "source": [
    "# Analysis\n",
    "> We will test the performance of the model against the test set and visualize some of the results. We will then make the necessary recommendations on how to improve our model further for use cases."
   ]
  },
  {
   "cell_type": "code",
   "execution_count": null,
   "id": "1439b0a1",
   "metadata": {},
   "outputs": [],
   "source": []
  }
 ],
 "metadata": {
  "kernelspec": {
   "display_name": "DSAI-Project",
   "language": "python",
   "name": "dsai-project"
  }
 },
 "nbformat": 4,
 "nbformat_minor": 5
}
