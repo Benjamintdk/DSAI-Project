{
 "cells": [
  {
   "cell_type": "code",
   "execution_count": null,
   "id": "adjusted-industry",
   "metadata": {},
   "outputs": [],
   "source": [
    "#default_exp dataset"
   ]
  },
  {
   "cell_type": "markdown",
   "id": "exclusive-shirt",
   "metadata": {},
   "source": [
    "# Dataset\n",
    "> Instantiates and defines the dataset class that we will be using for our project."
   ]
  },
  {
   "cell_type": "markdown",
   "id": "round-observation",
   "metadata": {},
   "source": [
    "Our project will require the use of 4 separate types of models: an image model, a text model, a tabular model, and a decoder network. The relationship between the 4 can be seen in the figure below. \n",
    "\n",
    "Our project will be utilizing pytorch to create the datasets class. This class will encapsulate all the different types of data."
   ]
  },
  {
   "cell_type": "code",
   "execution_count": null,
   "id": "governmental-blackberry",
   "metadata": {},
   "outputs": [],
   "source": [
    "#exporti\n",
    "# from torch.utils.data import Dataset\n",
    "import pandas as pd\n",
    "import os\n",
    "# import torch"
   ]
  },
  {
   "cell_type": "code",
   "execution_count": null,
   "id": "fantastic-invitation",
   "metadata": {},
   "outputs": [
    {
     "data": {
      "text/plain": [
       "numpy.int64"
      ]
     },
     "execution_count": null,
     "metadata": {},
     "output_type": "execute_result"
    }
   ],
   "source": [
    "df = pd.read_csv('test.csv')\n",
    "df.iloc[0]['id']"
   ]
  },
  {
   "cell_type": "code",
   "execution_count": null,
   "id": "impressed-grenada",
   "metadata": {},
   "outputs": [],
   "source": [
    "class MovieDataset(Dataset):\n",
    "    \n",
    "    def __init__(self, \n",
    "                 poster_img_dir: str,\n",
    "                 backdrop_img_dir: str,\n",
    "                 ds_type: str):\n",
    "        \n",
    "        self.ds_type = ds_type\n",
    "        self.poster_path, self.backdrop_path = poster_img_dir, backdrop_img_dir\n",
    "        self.df = pd.read_csv(f\"{self.ds_type}.csv\")\n",
    "        \n",
    "    def __len__(self):\n",
    "        return len(self.df)\n",
    "    \n",
    "    def __getitem__(self, idx):\n",
    "        poster_img_path = os.path.join(self.poster_path, f\"{self.df.iloc[idx]['id']}.jpg\")\n",
    "        backdrop_img_path = os.path.join(self.backdrop_path, f\"{self.df.iloc[idx]['id']}.jpg\")\n",
    "        \n",
    "        poster_img_array = np.array(Image.open(img).convert('RGB'))\n",
    "        "
   ]
  }
 ],
 "metadata": {
  "kernelspec": {
   "display_name": "DSAI-Project",
   "language": "python",
   "name": "dsai-project"
  }
 },
 "nbformat": 4,
 "nbformat_minor": 5
}
