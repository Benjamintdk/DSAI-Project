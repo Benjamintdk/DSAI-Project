{
 "cells": [
  {
   "cell_type": "code",
   "execution_count": 2,
   "id": "sweet-alert",
   "metadata": {},
   "outputs": [],
   "source": [
    "from pandas import DataFrame\n",
    "from sklearn.utils import shuffle\n",
    "import os\n",
    "import concurrent\n",
    "import requests\n",
    "import pandas as pd\n",
    "from nbdev.showdoc import *\n",
    "from fastcore.test import *"
   ]
  },
  {
   "cell_type": "code",
   "execution_count": 83,
   "id": "stable-nursery",
   "metadata": {},
   "outputs": [
    {
     "ename": "ModuleNotFoundError",
     "evalue": "No module named 'glom'",
     "output_type": "error",
     "traceback": [
      "\u001b[1;31m---------------------------------------------------------------------------\u001b[0m",
      "\u001b[1;31mModuleNotFoundError\u001b[0m                       Traceback (most recent call last)",
      "\u001b[1;32m<ipython-input-83-535a6dcc0196>\u001b[0m in \u001b[0;36m<module>\u001b[1;34m\u001b[0m\n\u001b[0;32m      3\u001b[0m \u001b[1;32mimport\u001b[0m \u001b[0mseaborn\u001b[0m \u001b[1;32mas\u001b[0m \u001b[0msb\u001b[0m\u001b[1;33m\u001b[0m\u001b[1;33m\u001b[0m\u001b[0m\n\u001b[0;32m      4\u001b[0m \u001b[1;32mimport\u001b[0m \u001b[0mmatplotlib\u001b[0m\u001b[1;33m.\u001b[0m\u001b[0mpyplot\u001b[0m \u001b[1;32mas\u001b[0m \u001b[0mplt\u001b[0m \u001b[1;31m# we only need pyplot\u001b[0m\u001b[1;33m\u001b[0m\u001b[1;33m\u001b[0m\u001b[0m\n\u001b[1;32m----> 5\u001b[1;33m \u001b[1;32mfrom\u001b[0m \u001b[0mglom\u001b[0m \u001b[1;32mimport\u001b[0m \u001b[0mglom\u001b[0m\u001b[1;33m\u001b[0m\u001b[1;33m\u001b[0m\u001b[0m\n\u001b[0m\u001b[0;32m      6\u001b[0m \u001b[1;32mfrom\u001b[0m \u001b[0mast\u001b[0m \u001b[1;32mimport\u001b[0m \u001b[0mliteral_eval\u001b[0m\u001b[1;33m\u001b[0m\u001b[1;33m\u001b[0m\u001b[0m\n",
      "\u001b[1;31mModuleNotFoundError\u001b[0m: No module named 'glom'"
     ]
    }
   ],
   "source": [
    "import numpy as np\n",
    "import pandas as pd\n",
    "import seaborn as sb\n",
    "import matplotlib.pyplot as plt # we only need pyplot\n",
    "from glom import glom\n",
    "from ast import literal_eval"
   ]
  },
  {
   "cell_type": "code",
   "execution_count": 67,
   "id": "republican-perfume",
   "metadata": {},
   "outputs": [],
   "source": [
    "from pandas.io.json import json_normalize"
   ]
  },
  {
   "cell_type": "code",
   "execution_count": 4,
   "id": "radical-facility",
   "metadata": {},
   "outputs": [],
   "source": [
    "data = pd.read_csv('train.csv')"
   ]
  },
  {
   "cell_type": "code",
   "execution_count": 5,
   "id": "formed-mainstream",
   "metadata": {},
   "outputs": [
    {
     "name": "stdout",
     "output_type": "stream",
     "text": [
      "<class 'pandas.core.frame.DataFrame'>\n",
      "RangeIndex: 916 entries, 0 to 915\n",
      "Data columns (total 26 columns):\n",
      " #   Column                 Non-Null Count  Dtype  \n",
      "---  ------                 --------------  -----  \n",
      " 0   Unnamed: 0             916 non-null    int64  \n",
      " 1   adult                  916 non-null    bool   \n",
      " 2   backdrop_path          901 non-null    object \n",
      " 3   belongs_to_collection  269 non-null    object \n",
      " 4   budget                 916 non-null    int64  \n",
      " 5   genres                 916 non-null    object \n",
      " 6   homepage               260 non-null    object \n",
      " 7   id                     916 non-null    int64  \n",
      " 8   imdb_id                916 non-null    object \n",
      " 9   original_language      916 non-null    object \n",
      " 10  original_title         916 non-null    object \n",
      " 11  overview               916 non-null    object \n",
      " 12  popularity             916 non-null    float64\n",
      " 13  poster_path            916 non-null    object \n",
      " 14  production_companies   916 non-null    object \n",
      " 15  production_countries   916 non-null    object \n",
      " 16  release_date           916 non-null    object \n",
      " 17  revenue                916 non-null    int64  \n",
      " 18  runtime                916 non-null    float64\n",
      " 19  spoken_languages       916 non-null    object \n",
      " 20  status                 916 non-null    object \n",
      " 21  tagline                916 non-null    object \n",
      " 22  title                  916 non-null    object \n",
      " 23  video                  916 non-null    bool   \n",
      " 24  vote_average           916 non-null    float64\n",
      " 25  vote_count             916 non-null    int64  \n",
      "dtypes: bool(2), float64(3), int64(5), object(16)\n",
      "memory usage: 173.7+ KB\n"
     ]
    }
   ],
   "source": [
    "data.info()"
   ]
  },
  {
   "cell_type": "code",
   "execution_count": 6,
   "id": "historical-lodge",
   "metadata": {},
   "outputs": [
    {
     "data": {
      "text/html": [
       "<div>\n",
       "<style scoped>\n",
       "    .dataframe tbody tr th:only-of-type {\n",
       "        vertical-align: middle;\n",
       "    }\n",
       "\n",
       "    .dataframe tbody tr th {\n",
       "        vertical-align: top;\n",
       "    }\n",
       "\n",
       "    .dataframe thead th {\n",
       "        text-align: right;\n",
       "    }\n",
       "</style>\n",
       "<table border=\"1\" class=\"dataframe\">\n",
       "  <thead>\n",
       "    <tr style=\"text-align: right;\">\n",
       "      <th></th>\n",
       "      <th>Unnamed: 0</th>\n",
       "      <th>adult</th>\n",
       "      <th>backdrop_path</th>\n",
       "      <th>belongs_to_collection</th>\n",
       "      <th>budget</th>\n",
       "      <th>genres</th>\n",
       "      <th>homepage</th>\n",
       "      <th>id</th>\n",
       "      <th>imdb_id</th>\n",
       "      <th>original_language</th>\n",
       "      <th>...</th>\n",
       "      <th>release_date</th>\n",
       "      <th>revenue</th>\n",
       "      <th>runtime</th>\n",
       "      <th>spoken_languages</th>\n",
       "      <th>status</th>\n",
       "      <th>tagline</th>\n",
       "      <th>title</th>\n",
       "      <th>video</th>\n",
       "      <th>vote_average</th>\n",
       "      <th>vote_count</th>\n",
       "    </tr>\n",
       "  </thead>\n",
       "  <tbody>\n",
       "    <tr>\n",
       "      <th>0</th>\n",
       "      <td>0</td>\n",
       "      <td>False</td>\n",
       "      <td>/pJ1jm5sJbcQC731JYF06rDAkZEZ.jpg</td>\n",
       "      <td>{'id': 103372, 'name': 'Mr. Bean Collection', ...</td>\n",
       "      <td>25000000</td>\n",
       "      <td>[{'id': 10751, 'name': 'Family'}, {'id': 35, '...</td>\n",
       "      <td>NaN</td>\n",
       "      <td>1268</td>\n",
       "      <td>tt0453451</td>\n",
       "      <td>en</td>\n",
       "      <td>...</td>\n",
       "      <td>2007-03-22</td>\n",
       "      <td>232225908</td>\n",
       "      <td>90.0</td>\n",
       "      <td>[{'english_name': 'Russian', 'iso_639_1': 'ru'...</td>\n",
       "      <td>Released</td>\n",
       "      <td>Disaster is just a small step away.</td>\n",
       "      <td>Mr. Bean's Holiday</td>\n",
       "      <td>False</td>\n",
       "      <td>6.3</td>\n",
       "      <td>2059</td>\n",
       "    </tr>\n",
       "    <tr>\n",
       "      <th>1</th>\n",
       "      <td>1</td>\n",
       "      <td>False</td>\n",
       "      <td>/qykc21PjbISZCmpKedY76fojV1I.jpg</td>\n",
       "      <td>NaN</td>\n",
       "      <td>0</td>\n",
       "      <td>[{'id': 18, 'name': 'Drama'}, {'id': 10749, 'n...</td>\n",
       "      <td>NaN</td>\n",
       "      <td>1967</td>\n",
       "      <td>tt0384814</td>\n",
       "      <td>en</td>\n",
       "      <td>...</td>\n",
       "      <td>2006-02-02</td>\n",
       "      <td>0</td>\n",
       "      <td>117.0</td>\n",
       "      <td>[{'english_name': 'English', 'iso_639_1': 'en'...</td>\n",
       "      <td>Released</td>\n",
       "      <td>Passion and ambition drive two dreamers in 193...</td>\n",
       "      <td>Ask the Dust</td>\n",
       "      <td>False</td>\n",
       "      <td>5.4</td>\n",
       "      <td>92</td>\n",
       "    </tr>\n",
       "    <tr>\n",
       "      <th>2</th>\n",
       "      <td>2</td>\n",
       "      <td>False</td>\n",
       "      <td>/8PnQPHZ06YRRiBbrJNIezeTXh7p.jpg</td>\n",
       "      <td>NaN</td>\n",
       "      <td>2500000</td>\n",
       "      <td>[{'id': 80, 'name': 'Crime'}, {'id': 18, 'name...</td>\n",
       "      <td>NaN</td>\n",
       "      <td>574</td>\n",
       "      <td>tt0049470</td>\n",
       "      <td>en</td>\n",
       "      <td>...</td>\n",
       "      <td>1956-05-16</td>\n",
       "      <td>10250000</td>\n",
       "      <td>120.0</td>\n",
       "      <td>[{'english_name': 'English', 'iso_639_1': 'en'...</td>\n",
       "      <td>Released</td>\n",
       "      <td>A little knowledge can be a deadly thing!</td>\n",
       "      <td>The Man Who Knew Too Much</td>\n",
       "      <td>False</td>\n",
       "      <td>7.5</td>\n",
       "      <td>882</td>\n",
       "    </tr>\n",
       "    <tr>\n",
       "      <th>3</th>\n",
       "      <td>3</td>\n",
       "      <td>False</td>\n",
       "      <td>/hKpzq3U7X1C1lqnYh0WQwlPyxO5.jpg</td>\n",
       "      <td>NaN</td>\n",
       "      <td>5000000</td>\n",
       "      <td>[{'id': 18, 'name': 'Drama'}, {'id': 36, 'name...</td>\n",
       "      <td>NaN</td>\n",
       "      <td>1955</td>\n",
       "      <td>tt0080678</td>\n",
       "      <td>en</td>\n",
       "      <td>...</td>\n",
       "      <td>1980-10-02</td>\n",
       "      <td>26010864</td>\n",
       "      <td>124.0</td>\n",
       "      <td>[{'english_name': 'English', 'iso_639_1': 'en'...</td>\n",
       "      <td>Released</td>\n",
       "      <td>I am not an animal! I am a human being! I … am...</td>\n",
       "      <td>The Elephant Man</td>\n",
       "      <td>False</td>\n",
       "      <td>8.1</td>\n",
       "      <td>2247</td>\n",
       "    </tr>\n",
       "    <tr>\n",
       "      <th>4</th>\n",
       "      <td>4</td>\n",
       "      <td>False</td>\n",
       "      <td>/cXU4zg2aKglQrMOLokHLbnxwkGV.jpg</td>\n",
       "      <td>NaN</td>\n",
       "      <td>16000000</td>\n",
       "      <td>[{'id': 35, 'name': 'Comedy'}, {'id': 10749, '...</td>\n",
       "      <td>NaN</td>\n",
       "      <td>639</td>\n",
       "      <td>tt0098635</td>\n",
       "      <td>en</td>\n",
       "      <td>...</td>\n",
       "      <td>1989-01-12</td>\n",
       "      <td>92823546</td>\n",
       "      <td>96.0</td>\n",
       "      <td>[{'english_name': 'English', 'iso_639_1': 'en'...</td>\n",
       "      <td>Released</td>\n",
       "      <td>Can two friends sleep together and still love ...</td>\n",
       "      <td>When Harry Met Sally...</td>\n",
       "      <td>False</td>\n",
       "      <td>7.4</td>\n",
       "      <td>2813</td>\n",
       "    </tr>\n",
       "  </tbody>\n",
       "</table>\n",
       "<p>5 rows × 26 columns</p>\n",
       "</div>"
      ],
      "text/plain": [
       "   Unnamed: 0  adult                     backdrop_path  \\\n",
       "0           0  False  /pJ1jm5sJbcQC731JYF06rDAkZEZ.jpg   \n",
       "1           1  False  /qykc21PjbISZCmpKedY76fojV1I.jpg   \n",
       "2           2  False  /8PnQPHZ06YRRiBbrJNIezeTXh7p.jpg   \n",
       "3           3  False  /hKpzq3U7X1C1lqnYh0WQwlPyxO5.jpg   \n",
       "4           4  False  /cXU4zg2aKglQrMOLokHLbnxwkGV.jpg   \n",
       "\n",
       "                               belongs_to_collection    budget  \\\n",
       "0  {'id': 103372, 'name': 'Mr. Bean Collection', ...  25000000   \n",
       "1                                                NaN         0   \n",
       "2                                                NaN   2500000   \n",
       "3                                                NaN   5000000   \n",
       "4                                                NaN  16000000   \n",
       "\n",
       "                                              genres homepage    id  \\\n",
       "0  [{'id': 10751, 'name': 'Family'}, {'id': 35, '...      NaN  1268   \n",
       "1  [{'id': 18, 'name': 'Drama'}, {'id': 10749, 'n...      NaN  1967   \n",
       "2  [{'id': 80, 'name': 'Crime'}, {'id': 18, 'name...      NaN   574   \n",
       "3  [{'id': 18, 'name': 'Drama'}, {'id': 36, 'name...      NaN  1955   \n",
       "4  [{'id': 35, 'name': 'Comedy'}, {'id': 10749, '...      NaN   639   \n",
       "\n",
       "     imdb_id original_language  ... release_date    revenue  runtime  \\\n",
       "0  tt0453451                en  ...   2007-03-22  232225908     90.0   \n",
       "1  tt0384814                en  ...   2006-02-02          0    117.0   \n",
       "2  tt0049470                en  ...   1956-05-16   10250000    120.0   \n",
       "3  tt0080678                en  ...   1980-10-02   26010864    124.0   \n",
       "4  tt0098635                en  ...   1989-01-12   92823546     96.0   \n",
       "\n",
       "                                    spoken_languages    status  \\\n",
       "0  [{'english_name': 'Russian', 'iso_639_1': 'ru'...  Released   \n",
       "1  [{'english_name': 'English', 'iso_639_1': 'en'...  Released   \n",
       "2  [{'english_name': 'English', 'iso_639_1': 'en'...  Released   \n",
       "3  [{'english_name': 'English', 'iso_639_1': 'en'...  Released   \n",
       "4  [{'english_name': 'English', 'iso_639_1': 'en'...  Released   \n",
       "\n",
       "                                             tagline  \\\n",
       "0                Disaster is just a small step away.   \n",
       "1  Passion and ambition drive two dreamers in 193...   \n",
       "2          A little knowledge can be a deadly thing!   \n",
       "3  I am not an animal! I am a human being! I … am...   \n",
       "4  Can two friends sleep together and still love ...   \n",
       "\n",
       "                       title  video  vote_average vote_count  \n",
       "0         Mr. Bean's Holiday  False           6.3       2059  \n",
       "1               Ask the Dust  False           5.4         92  \n",
       "2  The Man Who Knew Too Much  False           7.5        882  \n",
       "3           The Elephant Man  False           8.1       2247  \n",
       "4    When Harry Met Sally...  False           7.4       2813  \n",
       "\n",
       "[5 rows x 26 columns]"
      ]
     },
     "execution_count": 6,
     "metadata": {},
     "output_type": "execute_result"
    }
   ],
   "source": [
    "data.head()"
   ]
  },
  {
   "cell_type": "code",
   "execution_count": 21,
   "id": "institutional-depth",
   "metadata": {},
   "outputs": [
    {
     "data": {
      "text/plain": [
       "en    784\n",
       "fr     46\n",
       "de     25\n",
       "it     13\n",
       "es     11\n",
       "ja      8\n",
       "ru      6\n",
       "da      4\n",
       "zh      4\n",
       "nl      3\n",
       "cn      2\n",
       "pt      2\n",
       "ko      2\n",
       "cs      1\n",
       "hu      1\n",
       "hi      1\n",
       "af      1\n",
       "no      1\n",
       "el      1\n",
       "Name: original_language, dtype: int64"
      ]
     },
     "execution_count": 21,
     "metadata": {},
     "output_type": "execute_result"
    }
   ],
   "source": [
    "data[\"original_language\"].value_counts()\n"
   ]
  },
  {
   "cell_type": "code",
   "execution_count": 12,
   "id": "reasonable-partnership",
   "metadata": {},
   "outputs": [
    {
     "data": {
      "text/plain": [
       "'/qykc21PjbISZCmpKedY76fojV1I.jpg'"
      ]
     },
     "execution_count": 12,
     "metadata": {},
     "output_type": "execute_result"
    }
   ],
   "source": [
    "data['backdrop_path'][1]"
   ]
  },
  {
   "cell_type": "code",
   "execution_count": 14,
   "id": "pending-invention",
   "metadata": {},
   "outputs": [
    {
     "data": {
      "text/plain": [
       "{'id': 645, 'name': 'James Bond Collection', 'poster_path': '/HORpg5CSkmeQlAolx3bKMrKgfi.jpg', 'backdrop_path': '/6VcVl48kNKvdXOZfJPdarlUGOsk.jpg'}                         16\n",
       "{'id': 185682, 'name': 'The Adventures of Antoine Doinel', 'poster_path': '/66hyq0YtgBjrfT2kB1YJu33UDcy.jpg', 'backdrop_path': None}                                         5\n",
       "{'id': 1575, 'name': 'Rocky Collection', 'poster_path': '/O66XFv0mU6JKfmrgkoTQLwbFDG.jpg', 'backdrop_path': '/JhGydj4q5y8MoWZFyj15yKNrzC.jpg'}                               5\n",
       "{'id': 151, 'name': 'Star Trek: The Original Series Collection', 'poster_path': '/zcB8KxHA4EapOoZZPAvwgmE1iGK.jpg', 'backdrop_path': '/9BQj9hq0aK6yM9Tm2NJ28jg572y.jpg'}     5\n",
       "{'id': 1241, 'name': 'Harry Potter Collection', 'poster_path': '/eVPs2Y0LyvTLZn6AP5Z6O2rtiGB.jpg', 'backdrop_path': '/wfnMt6LGqYHcNyOfsuusw5lX3bL.jpg'}                      4\n",
       "                                                                                                                                                                            ..\n",
       "{'id': 64750, 'name': 'Blair Witch Collection', 'poster_path': '/qDQuKJZYLHrs1Ej64tYYFooFxc1.jpg', 'backdrop_path': '/e5GwLq0zBer3SuSJZodcNROnT6Z.jpg'}                      1\n",
       "{'id': 109076, 'name': 'Lost Boys Collection', 'poster_path': '/rpuL8zSLmVt34gwk03gSGReSjog.jpg', 'backdrop_path': '/qXpWa7kDopkOyEhuZtOLgIh4SW9.jpg'}                       1\n",
       "{'id': 608103, 'name': 'Shaft (Reboot) Collection', 'poster_path': '/iNs3WpagrJ4tDoR9paeasEt7CmQ.jpg', 'backdrop_path': '/hK9ASFeu7ba6PVWrKkyqjaLvk4V.jpg'}                  1\n",
       "{'id': 86105, 'name': 'American Psycho Collection', 'poster_path': '/ko4O9lcRGYOZAF5Hh79Mfsgjpun.jpg', 'backdrop_path': '/z5cYtp6jrS23RrQPBiJMJpIMwjc.jpg'}                  1\n",
       "{'id': 33059, 'name': 'Wild Things Collection', 'poster_path': '/4OI3VZMXFMcTmpyzg9RlN4vsIro.jpg', 'backdrop_path': '/uE47SwTt7uHyVwpMzcCQ92Q7FsQ.jpg'}                      1\n",
       "Name: belongs_to_collection, Length: 174, dtype: int64"
      ]
     },
     "execution_count": 14,
     "metadata": {},
     "output_type": "execute_result"
    }
   ],
   "source": [
    "data['belongs_to_collection'].value_counts()"
   ]
  },
  {
   "cell_type": "code",
   "execution_count": 27,
   "id": "decent-jersey",
   "metadata": {},
   "outputs": [
    {
     "data": {
      "text/plain": [
       "count                                                   916\n",
       "unique                                                  780\n",
       "top       [{'id': 4, 'logo_path': '/fycMZt242LVjagMByZOL...\n",
       "freq                                                     23\n",
       "Name: production_companies, dtype: object"
      ]
     },
     "execution_count": 27,
     "metadata": {},
     "output_type": "execute_result"
    }
   ],
   "source": [
    "data.production_companies.describe()"
   ]
  },
  {
   "cell_type": "code",
   "execution_count": 30,
   "id": "conditional-baker",
   "metadata": {},
   "outputs": [
    {
     "data": {
      "text/plain": [
       "\"[{'id': 686, 'logo_path': '/qMVjV8YFbxXrGVF4wD6hRjllVbr.png', 'name': 'Tiger Aspect Productions', 'origin_country': 'GB'}, {'id': 10163, 'logo_path': '/16KWBMmfPX0aJzDExDrPxSLj0Pg.png', 'name': 'Working Title Films', 'origin_country': 'GB'}, {'id': 33, 'logo_path': '/8lvHyhjr8oUKOOy2dKXoALWKdp0.png', 'name': 'Universal Pictures', 'origin_country': 'US'}]\""
      ]
     },
     "execution_count": 30,
     "metadata": {},
     "output_type": "execute_result"
    }
   ],
   "source": [
    "data['production_companies'][0\n",
    "                            ]"
   ]
  },
  {
   "cell_type": "code",
   "execution_count": 43,
   "id": "white-caribbean",
   "metadata": {},
   "outputs": [],
   "source": [
    "df = pd.DataFrame(data)\n",
    "df = df.drop(['belongs_to_collection','homepage','id','imdb_id','production_companies'],axis = 1)"
   ]
  },
  {
   "cell_type": "code",
   "execution_count": 44,
   "id": "abandoned-affiliate",
   "metadata": {},
   "outputs": [],
   "source": [
    "df=df.drop(['popularity','original_language','original_title','revenue','runtime','spoken_languages','status'],axis = 1)"
   ]
  },
  {
   "cell_type": "code",
   "execution_count": 46,
   "id": "congressional-contact",
   "metadata": {},
   "outputs": [
    {
     "ename": "KeyError",
     "evalue": "\"['video' 'vote_average' 'vote_count'] not found in axis\"",
     "output_type": "error",
     "traceback": [
      "\u001b[1;31m---------------------------------------------------------------------------\u001b[0m",
      "\u001b[1;31mKeyError\u001b[0m                                  Traceback (most recent call last)",
      "\u001b[1;32m<ipython-input-46-3a4b2c484476>\u001b[0m in \u001b[0;36m<module>\u001b[1;34m\u001b[0m\n\u001b[1;32m----> 1\u001b[1;33m \u001b[0mdf\u001b[0m\u001b[1;33m=\u001b[0m\u001b[0mdf\u001b[0m\u001b[1;33m.\u001b[0m\u001b[0mdrop\u001b[0m\u001b[1;33m(\u001b[0m\u001b[1;33m[\u001b[0m\u001b[1;34m'video'\u001b[0m\u001b[1;33m,\u001b[0m\u001b[1;34m'vote_average'\u001b[0m\u001b[1;33m,\u001b[0m\u001b[1;34m'vote_count'\u001b[0m\u001b[1;33m]\u001b[0m\u001b[1;33m,\u001b[0m\u001b[0maxis\u001b[0m \u001b[1;33m=\u001b[0m \u001b[1;36m1\u001b[0m\u001b[1;33m)\u001b[0m\u001b[1;33m\u001b[0m\u001b[1;33m\u001b[0m\u001b[0m\n\u001b[0m\u001b[0;32m      2\u001b[0m \u001b[0mdf\u001b[0m\u001b[1;33m\u001b[0m\u001b[1;33m\u001b[0m\u001b[0m\n",
      "\u001b[1;32mc:\\users\\graez\\onedrive\\desktop\\dsai_proj\\env\\lib\\site-packages\\pandas\\core\\frame.py\u001b[0m in \u001b[0;36mdrop\u001b[1;34m(self, labels, axis, index, columns, level, inplace, errors)\u001b[0m\n\u001b[0;32m   4306\u001b[0m                 \u001b[0mweight\u001b[0m  \u001b[1;36m1.0\u001b[0m     \u001b[1;36m0.8\u001b[0m\u001b[1;33m\u001b[0m\u001b[1;33m\u001b[0m\u001b[0m\n\u001b[0;32m   4307\u001b[0m         \"\"\"\n\u001b[1;32m-> 4308\u001b[1;33m         return super().drop(\n\u001b[0m\u001b[0;32m   4309\u001b[0m             \u001b[0mlabels\u001b[0m\u001b[1;33m=\u001b[0m\u001b[0mlabels\u001b[0m\u001b[1;33m,\u001b[0m\u001b[1;33m\u001b[0m\u001b[1;33m\u001b[0m\u001b[0m\n\u001b[0;32m   4310\u001b[0m             \u001b[0maxis\u001b[0m\u001b[1;33m=\u001b[0m\u001b[0maxis\u001b[0m\u001b[1;33m,\u001b[0m\u001b[1;33m\u001b[0m\u001b[1;33m\u001b[0m\u001b[0m\n",
      "\u001b[1;32mc:\\users\\graez\\onedrive\\desktop\\dsai_proj\\env\\lib\\site-packages\\pandas\\core\\generic.py\u001b[0m in \u001b[0;36mdrop\u001b[1;34m(self, labels, axis, index, columns, level, inplace, errors)\u001b[0m\n\u001b[0;32m   4151\u001b[0m         \u001b[1;32mfor\u001b[0m \u001b[0maxis\u001b[0m\u001b[1;33m,\u001b[0m \u001b[0mlabels\u001b[0m \u001b[1;32min\u001b[0m \u001b[0maxes\u001b[0m\u001b[1;33m.\u001b[0m\u001b[0mitems\u001b[0m\u001b[1;33m(\u001b[0m\u001b[1;33m)\u001b[0m\u001b[1;33m:\u001b[0m\u001b[1;33m\u001b[0m\u001b[1;33m\u001b[0m\u001b[0m\n\u001b[0;32m   4152\u001b[0m             \u001b[1;32mif\u001b[0m \u001b[0mlabels\u001b[0m \u001b[1;32mis\u001b[0m \u001b[1;32mnot\u001b[0m \u001b[1;32mNone\u001b[0m\u001b[1;33m:\u001b[0m\u001b[1;33m\u001b[0m\u001b[1;33m\u001b[0m\u001b[0m\n\u001b[1;32m-> 4153\u001b[1;33m                 \u001b[0mobj\u001b[0m \u001b[1;33m=\u001b[0m \u001b[0mobj\u001b[0m\u001b[1;33m.\u001b[0m\u001b[0m_drop_axis\u001b[0m\u001b[1;33m(\u001b[0m\u001b[0mlabels\u001b[0m\u001b[1;33m,\u001b[0m \u001b[0maxis\u001b[0m\u001b[1;33m,\u001b[0m \u001b[0mlevel\u001b[0m\u001b[1;33m=\u001b[0m\u001b[0mlevel\u001b[0m\u001b[1;33m,\u001b[0m \u001b[0merrors\u001b[0m\u001b[1;33m=\u001b[0m\u001b[0merrors\u001b[0m\u001b[1;33m)\u001b[0m\u001b[1;33m\u001b[0m\u001b[1;33m\u001b[0m\u001b[0m\n\u001b[0m\u001b[0;32m   4154\u001b[0m \u001b[1;33m\u001b[0m\u001b[0m\n\u001b[0;32m   4155\u001b[0m         \u001b[1;32mif\u001b[0m \u001b[0minplace\u001b[0m\u001b[1;33m:\u001b[0m\u001b[1;33m\u001b[0m\u001b[1;33m\u001b[0m\u001b[0m\n",
      "\u001b[1;32mc:\\users\\graez\\onedrive\\desktop\\dsai_proj\\env\\lib\\site-packages\\pandas\\core\\generic.py\u001b[0m in \u001b[0;36m_drop_axis\u001b[1;34m(self, labels, axis, level, errors)\u001b[0m\n\u001b[0;32m   4186\u001b[0m                 \u001b[0mnew_axis\u001b[0m \u001b[1;33m=\u001b[0m \u001b[0maxis\u001b[0m\u001b[1;33m.\u001b[0m\u001b[0mdrop\u001b[0m\u001b[1;33m(\u001b[0m\u001b[0mlabels\u001b[0m\u001b[1;33m,\u001b[0m \u001b[0mlevel\u001b[0m\u001b[1;33m=\u001b[0m\u001b[0mlevel\u001b[0m\u001b[1;33m,\u001b[0m \u001b[0merrors\u001b[0m\u001b[1;33m=\u001b[0m\u001b[0merrors\u001b[0m\u001b[1;33m)\u001b[0m\u001b[1;33m\u001b[0m\u001b[1;33m\u001b[0m\u001b[0m\n\u001b[0;32m   4187\u001b[0m             \u001b[1;32melse\u001b[0m\u001b[1;33m:\u001b[0m\u001b[1;33m\u001b[0m\u001b[1;33m\u001b[0m\u001b[0m\n\u001b[1;32m-> 4188\u001b[1;33m                 \u001b[0mnew_axis\u001b[0m \u001b[1;33m=\u001b[0m \u001b[0maxis\u001b[0m\u001b[1;33m.\u001b[0m\u001b[0mdrop\u001b[0m\u001b[1;33m(\u001b[0m\u001b[0mlabels\u001b[0m\u001b[1;33m,\u001b[0m \u001b[0merrors\u001b[0m\u001b[1;33m=\u001b[0m\u001b[0merrors\u001b[0m\u001b[1;33m)\u001b[0m\u001b[1;33m\u001b[0m\u001b[1;33m\u001b[0m\u001b[0m\n\u001b[0m\u001b[0;32m   4189\u001b[0m             \u001b[0mresult\u001b[0m \u001b[1;33m=\u001b[0m \u001b[0mself\u001b[0m\u001b[1;33m.\u001b[0m\u001b[0mreindex\u001b[0m\u001b[1;33m(\u001b[0m\u001b[1;33m**\u001b[0m\u001b[1;33m{\u001b[0m\u001b[0maxis_name\u001b[0m\u001b[1;33m:\u001b[0m \u001b[0mnew_axis\u001b[0m\u001b[1;33m}\u001b[0m\u001b[1;33m)\u001b[0m\u001b[1;33m\u001b[0m\u001b[1;33m\u001b[0m\u001b[0m\n\u001b[0;32m   4190\u001b[0m \u001b[1;33m\u001b[0m\u001b[0m\n",
      "\u001b[1;32mc:\\users\\graez\\onedrive\\desktop\\dsai_proj\\env\\lib\\site-packages\\pandas\\core\\indexes\\base.py\u001b[0m in \u001b[0;36mdrop\u001b[1;34m(self, labels, errors)\u001b[0m\n\u001b[0;32m   5589\u001b[0m         \u001b[1;32mif\u001b[0m \u001b[0mmask\u001b[0m\u001b[1;33m.\u001b[0m\u001b[0many\u001b[0m\u001b[1;33m(\u001b[0m\u001b[1;33m)\u001b[0m\u001b[1;33m:\u001b[0m\u001b[1;33m\u001b[0m\u001b[1;33m\u001b[0m\u001b[0m\n\u001b[0;32m   5590\u001b[0m             \u001b[1;32mif\u001b[0m \u001b[0merrors\u001b[0m \u001b[1;33m!=\u001b[0m \u001b[1;34m\"ignore\"\u001b[0m\u001b[1;33m:\u001b[0m\u001b[1;33m\u001b[0m\u001b[1;33m\u001b[0m\u001b[0m\n\u001b[1;32m-> 5591\u001b[1;33m                 \u001b[1;32mraise\u001b[0m \u001b[0mKeyError\u001b[0m\u001b[1;33m(\u001b[0m\u001b[1;34mf\"{labels[mask]} not found in axis\"\u001b[0m\u001b[1;33m)\u001b[0m\u001b[1;33m\u001b[0m\u001b[1;33m\u001b[0m\u001b[0m\n\u001b[0m\u001b[0;32m   5592\u001b[0m             \u001b[0mindexer\u001b[0m \u001b[1;33m=\u001b[0m \u001b[0mindexer\u001b[0m\u001b[1;33m[\u001b[0m\u001b[1;33m~\u001b[0m\u001b[0mmask\u001b[0m\u001b[1;33m]\u001b[0m\u001b[1;33m\u001b[0m\u001b[1;33m\u001b[0m\u001b[0m\n\u001b[0;32m   5593\u001b[0m         \u001b[1;32mreturn\u001b[0m \u001b[0mself\u001b[0m\u001b[1;33m.\u001b[0m\u001b[0mdelete\u001b[0m\u001b[1;33m(\u001b[0m\u001b[0mindexer\u001b[0m\u001b[1;33m)\u001b[0m\u001b[1;33m\u001b[0m\u001b[1;33m\u001b[0m\u001b[0m\n",
      "\u001b[1;31mKeyError\u001b[0m: \"['video' 'vote_average' 'vote_count'] not found in axis\""
     ]
    }
   ],
   "source": [
    "df=df.drop(['video','vote_average','vote_count'],axis = 1)\n"
   ]
  },
  {
   "cell_type": "code",
   "execution_count": 49,
   "id": "equipped-medication",
   "metadata": {},
   "outputs": [],
   "source": [
    "df = df.drop(['release_date','production_countries'],axis = 1)"
   ]
  },
  {
   "cell_type": "code",
   "execution_count": 54,
   "id": "mighty-teens",
   "metadata": {},
   "outputs": [
    {
     "data": {
      "text/plain": [
       "False    916\n",
       "Name: adult, dtype: int64"
      ]
     },
     "execution_count": 54,
     "metadata": {},
     "output_type": "execute_result"
    }
   ],
   "source": [
    "df['adult'].value_counts()"
   ]
  },
  {
   "cell_type": "code",
   "execution_count": 60,
   "id": "static-horse",
   "metadata": {},
   "outputs": [],
   "source": [
    "genre = pd.DataFrame(df['genres'])"
   ]
  },
  {
   "cell_type": "code",
   "execution_count": 81,
   "id": "filled-auction",
   "metadata": {},
   "outputs": [
    {
     "data": {
      "text/plain": [
       "\"[{'id': 80, 'name': 'Crime'}, {'id': 18, 'name': 'Drama'}, {'id': 9648, 'name': 'Mystery'}, {'id': 53, 'name': 'Thriller'}]\""
      ]
     },
     "execution_count": 81,
     "metadata": {},
     "output_type": "execute_result"
    }
   ],
   "source": [
    "df['genres'][2]"
   ]
  },
  {
   "cell_type": "code",
   "execution_count": 82,
   "id": "danish-concern",
   "metadata": {},
   "outputs": [
    {
     "ename": "NameError",
     "evalue": "name 'glom' is not defined",
     "output_type": "error",
     "traceback": [
      "\u001b[1;31m---------------------------------------------------------------------------\u001b[0m",
      "\u001b[1;31mNameError\u001b[0m                                 Traceback (most recent call last)",
      "\u001b[1;32m<ipython-input-82-f1eea63a628e>\u001b[0m in \u001b[0;36m<module>\u001b[1;34m\u001b[0m\n\u001b[1;32m----> 1\u001b[1;33m \u001b[0mgenre\u001b[0m \u001b[1;33m=\u001b[0m \u001b[0mdf\u001b[0m\u001b[1;33m[\u001b[0m\u001b[1;34m'genres'\u001b[0m\u001b[1;33m]\u001b[0m\u001b[1;33m.\u001b[0m\u001b[0mapply\u001b[0m\u001b[1;33m(\u001b[0m\u001b[1;32mlambda\u001b[0m \u001b[0mrow\u001b[0m\u001b[1;33m:\u001b[0m \u001b[0mglom\u001b[0m\u001b[1;33m(\u001b[0m\u001b[0mliteral_eval\u001b[0m\u001b[1;33m(\u001b[0m\u001b[0mrow\u001b[0m\u001b[1;33m)\u001b[0m\u001b[1;33m,\u001b[0m\u001b[1;34m'genres.id'\u001b[0m\u001b[1;33m)\u001b[0m\u001b[1;33m)\u001b[0m\u001b[1;33m\u001b[0m\u001b[1;33m\u001b[0m\u001b[0m\n\u001b[0m",
      "\u001b[1;32mc:\\users\\graez\\onedrive\\desktop\\dsai_proj\\env\\lib\\site-packages\\pandas\\core\\series.py\u001b[0m in \u001b[0;36mapply\u001b[1;34m(self, func, convert_dtype, args, **kwds)\u001b[0m\n\u001b[0;32m   4136\u001b[0m             \u001b[1;32melse\u001b[0m\u001b[1;33m:\u001b[0m\u001b[1;33m\u001b[0m\u001b[1;33m\u001b[0m\u001b[0m\n\u001b[0;32m   4137\u001b[0m                 \u001b[0mvalues\u001b[0m \u001b[1;33m=\u001b[0m \u001b[0mself\u001b[0m\u001b[1;33m.\u001b[0m\u001b[0mastype\u001b[0m\u001b[1;33m(\u001b[0m\u001b[0mobject\u001b[0m\u001b[1;33m)\u001b[0m\u001b[1;33m.\u001b[0m\u001b[0m_values\u001b[0m\u001b[1;33m\u001b[0m\u001b[1;33m\u001b[0m\u001b[0m\n\u001b[1;32m-> 4138\u001b[1;33m                 \u001b[0mmapped\u001b[0m \u001b[1;33m=\u001b[0m \u001b[0mlib\u001b[0m\u001b[1;33m.\u001b[0m\u001b[0mmap_infer\u001b[0m\u001b[1;33m(\u001b[0m\u001b[0mvalues\u001b[0m\u001b[1;33m,\u001b[0m \u001b[0mf\u001b[0m\u001b[1;33m,\u001b[0m \u001b[0mconvert\u001b[0m\u001b[1;33m=\u001b[0m\u001b[0mconvert_dtype\u001b[0m\u001b[1;33m)\u001b[0m\u001b[1;33m\u001b[0m\u001b[1;33m\u001b[0m\u001b[0m\n\u001b[0m\u001b[0;32m   4139\u001b[0m \u001b[1;33m\u001b[0m\u001b[0m\n\u001b[0;32m   4140\u001b[0m         \u001b[1;32mif\u001b[0m \u001b[0mlen\u001b[0m\u001b[1;33m(\u001b[0m\u001b[0mmapped\u001b[0m\u001b[1;33m)\u001b[0m \u001b[1;32mand\u001b[0m \u001b[0misinstance\u001b[0m\u001b[1;33m(\u001b[0m\u001b[0mmapped\u001b[0m\u001b[1;33m[\u001b[0m\u001b[1;36m0\u001b[0m\u001b[1;33m]\u001b[0m\u001b[1;33m,\u001b[0m \u001b[0mSeries\u001b[0m\u001b[1;33m)\u001b[0m\u001b[1;33m:\u001b[0m\u001b[1;33m\u001b[0m\u001b[1;33m\u001b[0m\u001b[0m\n",
      "\u001b[1;32mpandas\\_libs\\lib.pyx\u001b[0m in \u001b[0;36mpandas._libs.lib.map_infer\u001b[1;34m()\u001b[0m\n",
      "\u001b[1;32m<ipython-input-82-f1eea63a628e>\u001b[0m in \u001b[0;36m<lambda>\u001b[1;34m(row)\u001b[0m\n\u001b[1;32m----> 1\u001b[1;33m \u001b[0mgenre\u001b[0m \u001b[1;33m=\u001b[0m \u001b[0mdf\u001b[0m\u001b[1;33m[\u001b[0m\u001b[1;34m'genres'\u001b[0m\u001b[1;33m]\u001b[0m\u001b[1;33m.\u001b[0m\u001b[0mapply\u001b[0m\u001b[1;33m(\u001b[0m\u001b[1;32mlambda\u001b[0m \u001b[0mrow\u001b[0m\u001b[1;33m:\u001b[0m \u001b[0mglom\u001b[0m\u001b[1;33m(\u001b[0m\u001b[0mliteral_eval\u001b[0m\u001b[1;33m(\u001b[0m\u001b[0mrow\u001b[0m\u001b[1;33m)\u001b[0m\u001b[1;33m,\u001b[0m\u001b[1;34m'genres.id'\u001b[0m\u001b[1;33m)\u001b[0m\u001b[1;33m)\u001b[0m\u001b[1;33m\u001b[0m\u001b[1;33m\u001b[0m\u001b[0m\n\u001b[0m",
      "\u001b[1;31mNameError\u001b[0m: name 'glom' is not defined"
     ]
    }
   ],
   "source": [
    "genre = df['genres'].apply(lambda row: glom(literal_eval(row),'genres.id'))"
   ]
  }
 ],
 "metadata": {
  "kernelspec": {
   "display_name": "Python 3",
   "language": "python",
   "name": "python3"
  },
  "language_info": {
   "codemirror_mode": {
    "name": "ipython",
    "version": 3
   },
   "file_extension": ".py",
   "mimetype": "text/x-python",
   "name": "python",
   "nbconvert_exporter": "python",
   "pygments_lexer": "ipython3",
   "version": "3.8.8"
  }
 },
 "nbformat": 4,
 "nbformat_minor": 5
}
